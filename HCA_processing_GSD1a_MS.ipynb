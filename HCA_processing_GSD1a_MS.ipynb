{
 "cells": [
  {
   "cell_type": "code",
   "execution_count": 1,
   "id": "b1a91906",
   "metadata": {},
   "outputs": [],
   "source": [
    "##libraries\n",
    "import pandas as pd\n",
    "import numpy as np\n",
    "import seaborn as sns\n",
    "import os\n",
    "import sys\n",
    "import glob\n",
    "from sklearn import preprocessing\n",
    "import matplotlib.pyplot as plt\n",
    "from pandas.plotting import scatter_matrix \n",
    "%matplotlib inline\n",
    "from sklearn.decomposition import PCA\n",
    "from sklearn.preprocessing import StandardScaler\n",
    "from sklearn.discriminant_analysis import LinearDiscriminantAnalysis as LDA\n",
    "from sklearn.discriminant_analysis import QuadraticDiscriminantAnalysis as QDA\n",
    "from sklearn.manifold import TSNE\n",
    "from colour import Color\n",
    "from sklearn.covariance import EllipticEnvelope"
   ]
  },
  {
   "cell_type": "code",
   "execution_count": 2,
   "id": "9a5b7a05",
   "metadata": {},
   "outputs": [],
   "source": [
    "import sklearn.linear_model\n",
    "from sklearn.linear_model import LinearRegression\n",
    "from sklearn import svm\n",
    "from sklearn.datasets import make_moons, make_blobs\n",
    "from sklearn.covariance import EllipticEnvelope\n",
    "from sklearn.ensemble import IsolationForest\n",
    "from sklearn.neighbors import LocalOutlierFactor\n",
    "from sklearn.kernel_approximation import Nystroem\n",
    "from sklearn.pipeline import make_pipeline"
   ]
  },
  {
   "cell_type": "code",
   "execution_count": 3,
   "id": "7872dcc5",
   "metadata": {
    "scrolled": true
   },
   "outputs": [
    {
     "name": "stderr",
     "output_type": "stream",
     "text": [
      "C:\\Users\\MiguelW12\\PycharmProjects\\outdated\\utils.py:14: OutdatedPackageWarning: The package pingouin is out of date. Your version is 0.5.2, the latest is 0.5.3.\n",
      "Set the environment variable OUTDATED_IGNORE=1 to disable these warnings.\n",
      "  return warn(\n"
     ]
    }
   ],
   "source": [
    "from sklearn import preprocessing\n",
    "import matplotlib.pyplot as plt\n",
    "from pandas.plotting import scatter_matrix \n",
    "from psynlig import plot_correlation_heatmap\n",
    "import pingouin as pg\n",
    "from scipy.stats import pearsonr\n",
    "import plotly.express as px"
   ]
  },
  {
   "cell_type": "code",
   "execution_count": 4,
   "id": "1ca49dee",
   "metadata": {
    "scrolled": true
   },
   "outputs": [
    {
     "data": {
      "text/html": [
       "        <script type=\"text/javascript\">\n",
       "        window.PlotlyConfig = {MathJaxConfig: 'local'};\n",
       "        if (window.MathJax && window.MathJax.Hub && window.MathJax.Hub.Config) {window.MathJax.Hub.Config({SVG: {font: \"STIX-Web\"}});}\n",
       "        if (typeof require !== 'undefined') {\n",
       "        require.undef(\"plotly\");\n",
       "        requirejs.config({\n",
       "            paths: {\n",
       "                'plotly': ['https://cdn.plot.ly/plotly-2.16.1.min']\n",
       "            }\n",
       "        });\n",
       "        require(['plotly'], function(Plotly) {\n",
       "            window._Plotly = Plotly;\n",
       "        });\n",
       "        }\n",
       "        </script>\n",
       "        "
      ]
     },
     "metadata": {},
     "output_type": "display_data"
    },
    {
     "data": {
      "text/html": [
       "        <script type=\"text/javascript\">\n",
       "        window.PlotlyConfig = {MathJaxConfig: 'local'};\n",
       "        if (window.MathJax && window.MathJax.Hub && window.MathJax.Hub.Config) {window.MathJax.Hub.Config({SVG: {font: \"STIX-Web\"}});}\n",
       "        if (typeof require !== 'undefined') {\n",
       "        require.undef(\"plotly\");\n",
       "        requirejs.config({\n",
       "            paths: {\n",
       "                'plotly': ['https://cdn.plot.ly/plotly-2.16.1.min']\n",
       "            }\n",
       "        });\n",
       "        require(['plotly'], function(Plotly) {\n",
       "            window._Plotly = Plotly;\n",
       "        });\n",
       "        }\n",
       "        </script>\n",
       "        "
      ]
     },
     "metadata": {},
     "output_type": "display_data"
    }
   ],
   "source": [
    "import plotly.graph_objs as go\n",
    "from plotly.tools import FigureFactory as FF\n",
    "import chart_studio as cs\n",
    "import numpy as np\n",
    "import pandas as pd\n",
    "import scipy\n",
    "import chart_studio.plotly as py\n",
    "from plotly.offline import iplot\n",
    "import pandas as pd\n",
    "import numpy as np  \n",
    "%matplotlib inline  \n",
    "from plotly import __version__ \n",
    "from plotly.offline import download_plotlyjs, init_notebook_mode, plot, iplot\n",
    "import cufflinks as cf\n",
    "init_notebook_mode(connected=True)\n",
    "cf.go_offline()\n",
    "import chart_studio.plotly as py\n",
    "from sklearn import preprocessing\n",
    "from pandas.plotting import scatter_matrix \n",
    "from psynlig import plot_correlation_heatmap\n",
    "import pingouin as pg\n",
    "from scipy.stats import pearsonr\n",
    "from mlxtend.feature_selection import SequentialFeatureSelector as sfs\n",
    "from sklearn.linear_model import LinearRegression"
   ]
  },
  {
   "cell_type": "code",
   "execution_count": null,
   "id": "5a8e68a5",
   "metadata": {},
   "outputs": [],
   "source": [
    "# upload data"
   ]
  },
  {
   "cell_type": "code",
   "execution_count": null,
   "id": "0c0cf56b",
   "metadata": {},
   "outputs": [],
   "source": [
    "all_files = glob.glob('gsd1a_pheno_final/*.csv')\n",
    "\n",
    "li = []\n",
    "\n",
    "for filename in all_files:\n",
    "    df = pd.read_csv(filename)\n",
    "\n",
    "    li.append(df)\n",
    "\n",
    "data = pd.concat(li, axis=0, ignore_index=True)"
   ]
  },
  {
   "cell_type": "code",
   "execution_count": 8,
   "id": "752b4649",
   "metadata": {},
   "outputs": [],
   "source": [
    "path = ('RESULTS_gsd1a_HCA_clean') \n",
    "if not os.path.exists(path):\n",
    "    os.mkdir(path)\n",
    "    print('Output folder created')"
   ]
  },
  {
   "cell_type": "code",
   "execution_count": null,
   "id": "84b4c866",
   "metadata": {},
   "outputs": [],
   "source": [
    "CLEAN_SCAT_HEAT_DATA = data.copy()\n",
    "##drop non-relevant feat\n",
    "CLEAN_SCAT_HEAT_DATA = CLEAN_SCAT_HEAT_DATA.drop(columns=['Plane', 'Timepoint', 'Number of Analyzed Fields', 'Time [s]', 'Temperature', 'Target Temperature', 'CO2', 'Target CO2',  'Row', 'Column',\n",
    "                                                         ])\n",
    "##indexing\n",
    "CLEAN_SCAT_HEAT_DATA[\"group\"] = CLEAN_SCAT_HEAT_DATA[\"Cell Type\"].astype(str) + CLEAN_SCAT_HEAT_DATA[\"Compound\"].astype(str)\n",
    "CLEAN_SCAT_HEAT_DATA.set_index([\"group\"], inplace = True,\n",
    "                            append = True, drop = False)\n",
    "CLEAN_SCAT_HEAT_DATA[\"group_with_id\"] = CLEAN_SCAT_HEAT_DATA[\"CELL ID\"].astype(str) + CLEAN_SCAT_HEAT_DATA[\"Cell Type\"].astype(str) + CLEAN_SCAT_HEAT_DATA[\"Compound\"].astype(str)\n",
    "CLEAN_SCAT_HEAT_DATA.set_index([\"group_with_id\"], inplace = True,\n",
    "                            append = True, drop = False)\n",
    "CLEAN_SCAT_HEAT_DATA[\"group_with_pc\"] = CLEAN_SCAT_HEAT_DATA[\"Cell Type\"].astype(str) + CLEAN_SCAT_HEAT_DATA[\"Compound\"].astype(str) + CLEAN_SCAT_HEAT_DATA[\"PC\"].astype(str)\n",
    "CLEAN_SCAT_HEAT_DATA.set_index([\"group_with_pc\"], inplace = True,\n",
    "                            append = True, drop = False)\n",
    "CLEAN_SCAT_HEAT_DATA[\"group_id_pc\"] = CLEAN_SCAT_HEAT_DATA[\"group_with_id\"].astype(str) + CLEAN_SCAT_HEAT_DATA[\"PC\"].astype(str)\n",
    "CLEAN_SCAT_HEAT_DATA.set_index([\"group_id_pc\"], inplace = True,\n",
    "                            append = True, drop = False)\n"
   ]
  },
  {
   "cell_type": "code",
   "execution_count": null,
   "id": "ad3399e6",
   "metadata": {},
   "outputs": [],
   "source": [
    "# clear low and high cell count\n",
    "cell_count =  CLEAN_SCAT_HEAT_DATA[\"All Cells - Number of Objects\"].values\n",
    "sns.histplot(cell_count)\n",
    "plt.show()\n",
    "CLEAN_SCAT_HEAT_DATA = CLEAN_SCAT_HEAT_DATA.loc[cell_count<1200]\n",
    "sns.histplot(CLEAN_SCAT_HEAT_DATA[\"All Cells - Number of Objects\"].values)\n",
    "plt.show()\n",
    "CLEAN_SCAT_HEAT_DATA = CLEAN_SCAT_HEAT_DATA.loc[cell_count>100]\n",
    "sns.histplot(CLEAN_SCAT_HEAT_DATA[\"All Cells - Number of Objects\"].values)\n",
    "plt.show()"
   ]
  },
  {
   "cell_type": "code",
   "execution_count": 17,
   "id": "3b102e3a",
   "metadata": {},
   "outputs": [],
   "source": [
    "file_1 =   'df1_ORIGINAL_det_GSD1A.csv'\n",
    "CLEAN_SCAT_HEAT_DATA.to_csv(file_1)"
   ]
  },
  {
   "cell_type": "code",
   "execution_count": null,
   "id": "c6912bdb",
   "metadata": {},
   "outputs": [],
   "source": [
    "CLEAN_SCAT_HEAT_DATA[\"group_with_pc\"].value_counts()"
   ]
  },
  {
   "cell_type": "code",
   "execution_count": null,
   "id": "2c33f69e",
   "metadata": {},
   "outputs": [],
   "source": [
    "# OUTLIER DETECTION MODE \n",
    "DataFrame_OutliersDetections = CLEAN_SCAT_HEAT_DATA.copy()\n",
    "types = CLEAN_SCAT_HEAT_DATA[\"group_with_pc\"].unique()\n",
    "mask = []\n",
    "features = CLEAN_SCAT_HEAT_DATA.columns[:158]\n",
    "print(types)\n",
    "# detector_list = ['pca_approx', 'robust_cov']\n",
    "\n",
    "\n",
    "detector_list = [\n",
    "    \n",
    "        (\n",
    "        \"Local Outlier Factor 10\",\n",
    "        LocalOutlierFactor(n_neighbors=10),\n",
    "    ),\n",
    "  "
   ]
  },
  {
   "cell_type": "code",
   "execution_count": null,
   "id": "ad27d7a6",
   "metadata": {},
   "outputs": [],
   "source": [
    "for name, algorithm in detector_list:\n",
    "    errors = np.full(len(DataFrame_OutliersDetections),fill_value=np.nan)\n",
    "    outliers = np.full(len(DataFrame_OutliersDetections),fill_value=np.nan)\n",
    "\n",
    "    for type in types:\n",
    "        x = DataFrame_OutliersDetections.loc[:,features].values\n",
    "        F = x.sum(1)\n",
    "        mask = np.zeros(x.shape[0])\n",
    "        mask[np.isfinite(F)] = 1\n",
    "        mask_type = mask * np.array(DataFrame_OutliersDetections[\"group_with_pc\"] == type)\n",
    "        Curr_df = DataFrame_OutliersDetections.loc[mask_type==1,features]\n",
    "\n",
    "        x = Curr_df.values\n",
    "        if name == 'pca_approx':\n",
    "\n",
    "            x = StandardScaler().fit_transform(x)\n",
    "            # F = x.sum(1)\n",
    "            # x = x[np.isfinite(F),:]\n",
    "            # mask[1-np.isfinite(F)] = False\n",
    "            # pd.DataFrame(data = Curr_df, columns = features).head()\n",
    "            # pca = PCA(n_components=2)\n",
    "            lower_dimensional_data = algorithm.fit_transform(x)\n",
    "            pproximation = algorithm.inverse_transform(lower_dimensional_data)\n",
    "\n",
    "            err = np.linalg.norm(x-pproximation,2,axis=1)\n",
    "\n",
    "            errors[mask_type==1] = err\n",
    "            outliers[mask_type==1] = (err < 5) * 2 - 1\n",
    "            if False:\n",
    "                plt.scatter(lower_dimensional_data[:,0],lower_dimensional_data[:,1],c=err>5)\n",
    "                plt.title(type)\n",
    "                plt.show()\n",
    "        else:\n",
    "            algorithm.fit(x)\n",
    "            if name == \"Robust covariance\":\n",
    "                errors[mask_type==1] = algorithm.mahalanobis(x)\n",
    "                outliers[mask_type==1] = algorithm.predict(x)\n",
    "\n",
    "            if  \"Local Outlier Factor\" in name:\n",
    "                errors[mask_type==1] = algorithm.negative_outlier_factor_\n",
    "                outliers[mask_type==1] = algorithm.fit_predict(x)\n",
    "            else:\n",
    "                y_pred = algorithm.fit(x).predict(x)\n",
    "\n",
    "\n",
    "\n",
    "        # Curr_df[name] = errors[mask_type==1]\n",
    "        # Curr_df[f'{name}_outliers'] = outliers[mask_type==1]\n",
    "        # Curr_df.set_index(name, inplace = True,\n",
    "        #                         append = True, drop = False)\n",
    "        # file =   f'{type}_df_outliers_det.csv'\n",
    "        # Curr_df.to_csv(file)\n",
    "    DataFrame_OutliersDetections[name] = errors\n",
    "    DataFrame_OutliersDetections[f'{name}_outliers'] = outliers\n",
    "    DataFrame_OutliersDetections.set_index(name, inplace = True,\n",
    "                            append = True, drop = False)\n",
    "\n",
    "    file2 =   'df2_outliers_det_GSD1A.csv'\n",
    "    DataFrame_OutliersDetections.to_csv(file2)\n"
   ]
  },
  {
   "cell_type": "code",
   "execution_count": null,
   "id": "dbae115e",
   "metadata": {},
   "outputs": [],
   "source": [
    "DataFrame_OutliersDetections[\"group_with_pc\"].value_counts()"
   ]
  },
  {
   "cell_type": "code",
   "execution_count": null,
   "id": "96a3b075",
   "metadata": {},
   "outputs": [],
   "source": [
    "## cut outliers\n",
    "df_clean = DataFrame_OutliersDetections[DataFrame_OutliersDetections['Local Outlier Factor 10_outliers'] == 1]\n",
    "df_clean"
   ]
  },
  {
   "cell_type": "code",
   "execution_count": null,
   "id": "47bd4505",
   "metadata": {},
   "outputs": [],
   "source": [
    "df_clean[\"group_with_pc\"].value_counts()"
   ]
  },
  {
   "cell_type": "code",
   "execution_count": 28,
   "id": "dad2330d",
   "metadata": {
    "scrolled": true
   },
   "outputs": [],
   "source": [
    "file_3 =   'df3_outliers_det_clean_GSD1A.csv'\n",
    "df_clean.to_csv(file_3)"
   ]
  },
  {
   "cell_type": "code",
   "execution_count": 33,
   "id": "8ccc0bbe",
   "metadata": {},
   "outputs": [],
   "source": [
    "# CREATE PLATE CONDITION DATA FRAMES\n",
    "df_24 = df_clean[df_clean['PC'] == 24]\n",
    "df_48 = df_clean[df_clean['PC'] == 48]\n",
    "df_72 = df_clean[df_clean['PC'] == 72]\n",
    "#define hc +hc mean data frames \n",
    "#24\n",
    "hc_24 = df_24[(df_24['group'] == 'HCNONE')]\n",
    "hc_24_mean = hc_24.mean()\n",
    "#48\n",
    "hc_48 = df_48[(df_48['group'] == 'HCNONE')]\n",
    "hc_48_mean = hc_48.mean()\n",
    "#72\n",
    "hc_72 = df_72[(df_72['group'] == 'HCNONE')]\n",
    "hc_72_mean = hc_72.mean()\n",
    "# normalize to HC all conditions \n",
    "N_df_24 = df_24/hc_24_mean\n",
    "N_df_48 = df_48/hc_48_mean\n",
    "N_df_72 = df_72/hc_72_mean"
   ]
  },
  {
   "cell_type": "code",
   "execution_count": 36,
   "id": "203a9df5",
   "metadata": {},
   "outputs": [
    {
     "name": "stdout",
     "output_type": "stream",
     "text": [
      "done\n"
     ]
    }
   ],
   "source": [
    "#initialze the excel writer\n",
    "writer = pd.ExcelWriter(path + '//' + 'livesummary-excel_full_feat.xlsx', engine='xlsxwriter')\n",
    "\n",
    "    #store dataframes in a  dict, where the key is the sheet name \n",
    "frames = {'24': N_df_24, '48': N_df_48,\n",
    "              '72': N_df_72}\n",
    "    \n",
    "    #now loop thru and put each on a specific sheet\n",
    "for sheet, frame in  frames.items(): \n",
    "    frame.to_excel(writer, sheet_name = sheet)\n",
    "\n",
    "    \n",
    "writer.save()\n",
    "    #writer.close()\n",
    "print('done')\n"
   ]
  },
  {
   "cell_type": "code",
   "execution_count": null,
   "id": "92055977",
   "metadata": {},
   "outputs": [],
   "source": [
    "## feature selection"
   ]
  },
  {
   "cell_type": "code",
   "execution_count": 29,
   "id": "1bda1fff",
   "metadata": {},
   "outputs": [],
   "source": [
    "df_clean.fillna(0, inplace=True)"
   ]
  },
  {
   "cell_type": "code",
   "execution_count": null,
   "id": "df4c2b59",
   "metadata": {},
   "outputs": [],
   "source": [
    "#lyso"
   ]
  },
  {
   "cell_type": "code",
   "execution_count": 30,
   "id": "2cfee32c",
   "metadata": {},
   "outputs": [
    {
     "data": {
      "text/plain": [
       "(484, 24)"
      ]
     },
     "execution_count": 30,
     "metadata": {},
     "output_type": "execute_result"
    }
   ],
   "source": [
    "df_lyso_a1 = df_clean[['modified_spots_chanel_4 - Total Spot Area - Mean per Well',\n",
    "\n",
    "'modified_spots_chanel_4 - Number of Spots per Area of modified_spots_chanel_4 - Mean per Well',\n",
    "'spots_chanel_4_final - Spot Area [pxֲ²] - Mean per Well',\n",
    "'spots_chanel_4_final - spots_chanel_4_final Area [ֲµmֲ²] - Mean per Well',\n",
    "'spots_chanel_4_final - spots_chanel_4_final Roundness - Mean per Well',\n",
    "'spots_chanel_4_final - spots_chanel_4_final Width [ֲµm] - Mean per Well',\n",
    "'spots_chanel_4_final - spots_chanel_4_final Length [ֲµm] - Mean per Well',\n",
    "'spots_chanel_4_final - spots_chanel_4_final Threshold Compactness 30%  - Mean per Well',\n",
    "'spots_chanel_4_final - spots_chanel_4_final Threshold Compactness 40%  - Mean per Well',\n",
    "'spots_chanel_4_final - spots_chanel_4_final Threshold Compactness 50%  - Mean per Well',\n",
    "'spots_chanel_4_final - spots_chanel_4_final Threshold Compactness 60%  - Mean per Well',\n",
    "'spots_chanel_4_final - spots_chanel_4_final Radial Mean  - Mean per Well',\n",
    "'spots_chanel_4_final - spots_chanel_4_final Radial Relative Deviation  - Mean per Well',\n",
    "'spots_chanel_4_final - spots_chanel_4_final Profile 1/2  - Mean per Well',\n",
    "'spots_chanel_4_final - spots_chanel_4_final Profile 2/2  - Mean per Well',\n",
    "'spots_chanel_4_final - spots_chanel_4_final Threshold Compactness 30% SER-Spot - Mean per Well',\n",
    "'spots_chanel_4_final - spots_chanel_4_final Threshold Compactness 40% SER-Spot - Mean per Well',\n",
    "'spots_chanel_4_final - spots_chanel_4_final Threshold Compactness 50% SER-Spot - Mean per Well',\n",
    "'spots_chanel_4_final - spots_chanel_4_final Threshold Compactness 60% SER-Spot - Mean per Well',\n",
    "'spots_chanel_4_final - spots_chanel_4_final Radial Mean SER-Spot - Mean per Well',\n",
    "'spots_chanel_4_final - spots_chanel_4_final Radial Relative Deviation SER-Spot - Mean per Well',\n",
    "'spots_chanel_4_final - spots_chanel_4_final Radial Mean Ratio SER-Spot - Mean per Well',\n",
    "'spots_chanel_4_final - spots_chanel_4_final Profile 1/2 SER-Spot - Mean per Well',\n",
    "'spots_chanel_4_final - spots_chanel_4_final Profile 2/2 SER-Spot - Mean per Well',\n",
    "]]\n",
    "df_lyso_a1.fillna(0, inplace=True)\n",
    "df_lyso_a1.to_csv(path +  '//' + 'lyso_area1_feat.csv' )\n",
    "df_lyso_a1.shape"
   ]
  },
  {
   "cell_type": "code",
   "execution_count": 31,
   "id": "32becfec",
   "metadata": {},
   "outputs": [
    {
     "data": {
      "text/plain": [
       "(484, 10)"
      ]
     },
     "execution_count": 31,
     "metadata": {},
     "output_type": "execute_result"
    }
   ],
   "source": [
    "df_lyso_a2 = df_clean[[\n",
    "'modified_ir_chanel_4_ct - modified_ir_chanel_4_ct Area [ֲµmֲ²] - Mean per Well',\n",
    "'modified_ir_chanel_4_ct - modified_ir_chanel_4_ct Roundness - Mean per Well',\n",
    "'modified_ir_chanel_4_ct - modified_ir_chanel_4_ct Width [ֲµm] - Mean per Well',\n",
    "'modified_ir_chanel_4_ct - modified_ir_chanel_4_ct Length [ֲµm] - Mean per Well',\n",
    "'modified_ir_chanel_4_at - modified_ir_chanel_4_at Area [ֲµmֲ²] - Mean per Well',\n",
    "'modified_ir_chanel_4_at - modified_ir_chanel_4_at Roundness - Mean per Well',\n",
    "'modified_ir_chanel_4_at - modified_ir_chanel_4_at Width [ֲµm] - Mean per Well',\n",
    "'modified_ir_chanel_4_at - modified_ir_chanel_4_at Length [ֲµm] - Mean per Well',\n",
    "'ir_chanel_4_total - ir_chanel_4_total Area [ֲµmֲ²] - Sum per Well',\n",
    "'total_ir_chanel_4_normalized']]\n",
    "df_lyso_a2.fillna(0, inplace=True)\n",
    "df_lyso_a2.to_csv(path +  '//' + 'lyso_area2_feat.csv' )\n",
    "df_lyso_a2.shape"
   ]
  },
  {
   "cell_type": "code",
   "execution_count": 32,
   "id": "c259ee59",
   "metadata": {},
   "outputs": [
    {
     "data": {
      "text/plain": [
       "(484, 11)"
      ]
     },
     "execution_count": 32,
     "metadata": {},
     "output_type": "execute_result"
    }
   ],
   "source": [
    "df_lyso_a3 = df_clean[[\n",
    "'All Cells - chanel_4 Threshold Compactness 30%  - Mean per Well',\n",
    "'All Cells - chanel_4 Threshold Compactness 40%  - Mean per Well',\n",
    "'All Cells - chanel_4 Threshold Compactness 50%  - Mean per Well',\n",
    "'All Cells - chanel_4 Threshold Compactness 60%  - Mean per Well',\n",
    "'All Cells - chanel_4 Profile 1/5  - Mean per Well',\n",
    "'All Cells - chanel_4 Profile 2/5  - Mean per Well',\n",
    "'All Cells - chanel_4 Profile 3/5  - Mean per Well',\n",
    "'All Cells - chanel_4 Profile 4/5  - Mean per Well',\n",
    "'All Cells - chanel_4 Profile 5/5  - Mean per Well',\n",
    "'ir_chanel_4_total - ir_chanel_4_total Area [ֲµmֲ²] - Sum per Well',\n",
    "'total_ir_chanel_4_normalized']]\n",
    "df_lyso_a3.fillna(0, inplace=True)\n",
    "df_lyso_a3.to_csv(path +  '//' + 'lyso_area3_feat.csv' )\n",
    "df_lyso_a3.shape"
   ]
  },
  {
   "cell_type": "code",
   "execution_count": 33,
   "id": "395954f7",
   "metadata": {
    "scrolled": true
   },
   "outputs": [
    {
     "data": {
      "text/plain": [
       "(484, 9)"
      ]
     },
     "execution_count": 33,
     "metadata": {},
     "output_type": "execute_result"
    }
   ],
   "source": [
    "df_lyso_i = df_clean[[\n",
    "'All Cells - chanel_4_intensity Mean - Mean per Well',\n",
    "'All Cells - chanel_4_intensity Sum - Sum per Well',\n",
    "'spots_chanel_4_final - Relative Spot Intensity - Mean per Well',\n",
    "'spots_chanel_4_final - Corrected Spot Intensity - Mean per Well',\n",
    "'spots_chanel_4_final - Uncorrected Spot Peak Intensity - Mean per Well',\n",
    "'spots_chanel_4_final - Spot Contrast - Mean per Well',\n",
    "'spots_chanel_4_final - Spot Background Intensity - Mean per Well',\n",
    "'spots_chanel_4_final - Region Intensity - Mean per Well',\n",
    "'spots_chanel_4_final - Spot to Region Intensity - Mean per Well']]\n",
    "df_lyso_i.fillna(0, inplace=True)\n",
    "df_lyso_i.to_csv(path +  '//' + 'lyso_intensity_feat.csv' )\n",
    "df_lyso_i.shape"
   ]
  },
  {
   "cell_type": "code",
   "execution_count": 34,
   "id": "50af6400",
   "metadata": {},
   "outputs": [
    {
     "data": {
      "text/plain": [
       "(484, 5)"
      ]
     },
     "execution_count": 34,
     "metadata": {},
     "output_type": "execute_result"
    }
   ],
   "source": [
    "df_lyso_t = df_clean[['All Cells - chanel_4 Gabor Max 2 px w2 - Mean per Well',\n",
    "'All Cells - chanel_4 SER Spot 1 px - Mean per Well',\n",
    "'All Cells - chanel_4 SER Hole 1 px - Mean per Well',\n",
    "'All Cells - chanel_4 SER Ridge 1 px - Mean per Well',\n",
    "'All Cells - chanel_4 SER Valley 1 px - Mean per Well']]\n",
    "df_lyso_t.fillna(0, inplace=True)\n",
    "df_lyso_t.to_csv(path +  '//' + 'lyso_texture_feat.csv' )\n",
    "df_lyso_t.shape"
   ]
  },
  {
   "cell_type": "code",
   "execution_count": null,
   "id": "03cca407",
   "metadata": {},
   "outputs": [],
   "source": [
    "#Tmre"
   ]
  },
  {
   "cell_type": "code",
   "execution_count": 35,
   "id": "1550fc94",
   "metadata": {},
   "outputs": [
    {
     "data": {
      "text/plain": [
       "(484, 24)"
      ]
     },
     "execution_count": 35,
     "metadata": {},
     "output_type": "execute_result"
    }
   ],
   "source": [
    "df_tmre_a1 = df_clean[['modified_spots_chanel_3 - Total Spot Area - Mean per Well',\n",
    "\n",
    "'modified_spots_chanel_3 - Number of Spots per Area of modified_spots_chanel_3 - Mean per Well',\n",
    "'spots_chanel_3_final - Spot Area [pxֲ²] - Mean per Well',\n",
    "'spots_chanel_3_final - spots_chanel_3_final Area [ֲµmֲ²] - Mean per Well',\n",
    "'spots_chanel_3_final - spots_chanel_3_final Roundness - Mean per Well',\n",
    "'spots_chanel_3_final - spots_chanel_3_final Width [ֲµm] - Mean per Well',\n",
    "'spots_chanel_3_final - spots_chanel_3_final Length [ֲµm] - Mean per Well',\n",
    "'spots_chanel_3_final - spots_chanel_3_final Threshold Compactness 30%  - Mean per Well',\n",
    "'spots_chanel_3_final - spots_chanel_3_final Threshold Compactness 40%  - Mean per Well',\n",
    "'spots_chanel_3_final - spots_chanel_3_final Threshold Compactness 50%  - Mean per Well',\n",
    "'spots_chanel_3_final - spots_chanel_3_final Threshold Compactness 60%  - Mean per Well',\n",
    "'spots_chanel_3_final - spots_chanel_3_final Radial Mean  - Mean per Well',\n",
    "'spots_chanel_3_final - spots_chanel_3_final Radial Relative Deviation  - Mean per Well',\n",
    "'spots_chanel_3_final - spots_chanel_3_final Profile 1/2  - Mean per Well',\n",
    "'spots_chanel_3_final - spots_chanel_3_final Profile 2/2  - Mean per Well',\n",
    "'spots_chanel_3_final - spots_chanel_3_final Threshold Compactness 30% SER-Spot - Mean per Well',\n",
    "'spots_chanel_3_final - spots_chanel_3_final Threshold Compactness 40% SER-Spot - Mean per Well',\n",
    "'spots_chanel_3_final - spots_chanel_3_final Threshold Compactness 50% SER-Spot - Mean per Well',\n",
    "'spots_chanel_3_final - spots_chanel_3_final Threshold Compactness 60% SER-Spot - Mean per Well',\n",
    "'spots_chanel_3_final - spots_chanel_3_final Radial Mean SER-Spot - Mean per Well',\n",
    "'spots_chanel_3_final - spots_chanel_3_final Radial Relative Deviation SER-Spot - Mean per Well',\n",
    "'spots_chanel_3_final - spots_chanel_3_final Radial Mean Ratio SER-Spot - Mean per Well',\n",
    "'spots_chanel_3_final - spots_chanel_3_final Profile 1/2 SER-Spot - Mean per Well',\n",
    "'spots_chanel_3_final - spots_chanel_3_final Profile 2/2 SER-Spot - Mean per Well']]\n",
    "df_tmre_a1.fillna(0, inplace=True)\n",
    "df_tmre_a1.to_csv(path +  '//' + 'tmre_area1_feat.csv' )\n",
    "df_tmre_a1.shape"
   ]
  },
  {
   "cell_type": "code",
   "execution_count": 36,
   "id": "6719bcfc",
   "metadata": {},
   "outputs": [
    {
     "data": {
      "text/plain": [
       "(484, 10)"
      ]
     },
     "execution_count": 36,
     "metadata": {},
     "output_type": "execute_result"
    }
   ],
   "source": [
    "df_tmre_a2 = df_clean[[\n",
    "'modified_ir_chanel_3_ct - modified_ir_chanel_3_ct Area [ֲµmֲ²] - Mean per Well',\n",
    "'modified_ir_chanel_3_ct - modified_ir_chanel_3_ct Roundness - Mean per Well',\n",
    "'modified_ir_chanel_3_ct - modified_ir_chanel_3_ct Width [ֲµm] - Mean per Well',\n",
    "'modified_ir_chanel_3_ct - modified_ir_chanel_3_ct Length [ֲµm] - Mean per Well',\n",
    "'modified_ir_chanel_3_at - modified_ir_chanel_3_at Area [ֲµmֲ²] - Mean per Well',\n",
    "'modified_ir_chanel_3_at - modified_ir_chanel_3_at Roundness - Mean per Well',\n",
    "'modified_ir_chanel_3_at - modified_ir_chanel_3_at Width [ֲµm] - Mean per Well',\n",
    "'modified_ir_chanel_3_at - modified_ir_chanel_3_at Length [ֲµm] - Mean per Well',\n",
    "'ir_chanel_3_total - ir_chanel_3_total Area [ֲµmֲ²] - Sum per Well',\n",
    "'total_ir_chanel_3_normalized']]\n",
    "df_tmre_a2.fillna(0, inplace=True)\n",
    "df_tmre_a2.to_csv(path +  '//' + 'tmre_area2_feat.csv' )\n",
    "df_tmre_a2.shape"
   ]
  },
  {
   "cell_type": "code",
   "execution_count": 37,
   "id": "38763b63",
   "metadata": {},
   "outputs": [
    {
     "data": {
      "text/plain": [
       "(484, 11)"
      ]
     },
     "execution_count": 37,
     "metadata": {},
     "output_type": "execute_result"
    }
   ],
   "source": [
    "df_tmre_a3 = df_clean[[\n",
    "'All Cells - chanel_3 Threshold Compactness 30%  - Mean per Well',\n",
    "'All Cells - chanel_3 Threshold Compactness 40%  - Mean per Well',\n",
    "'All Cells - chanel_3 Threshold Compactness 50%  - Mean per Well',\n",
    "'All Cells - chanel_3 Threshold Compactness 60%  - Mean per Well',\n",
    "'All Cells - chanel_3 Profile 1/5  - Mean per Well',\n",
    "'All Cells - chanel_3 Profile 2/5  - Mean per Well',\n",
    "'All Cells - chanel_3 Profile 3/5  - Mean per Well',\n",
    "'All Cells - chanel_3 Profile 4/5  - Mean per Well',\n",
    "'All Cells - chanel_3 Profile 5/5  - Mean per Well',\n",
    "'ir_chanel_3_total - ir_chanel_3_total Area [ֲµmֲ²] - Sum per Well',\n",
    "'total_ir_chanel_3_normalized']]\n",
    "df_tmre_a3.fillna(0, inplace=True)\n",
    "df_tmre_a3.to_csv(path +  '//' + 'tmre_area3_feat.csv' )\n",
    "df_tmre_a3.shape"
   ]
  },
  {
   "cell_type": "code",
   "execution_count": 38,
   "id": "1d57af88",
   "metadata": {},
   "outputs": [
    {
     "data": {
      "text/plain": [
       "(484, 9)"
      ]
     },
     "execution_count": 38,
     "metadata": {},
     "output_type": "execute_result"
    }
   ],
   "source": [
    "df_tmre_i = df_clean[[\n",
    "'All Cells - chanel_3_intensity Mean - Mean per Well',\n",
    "'All Cells - chanel_3_intensity Sum - Sum per Well',\n",
    "'spots_chanel_3_final - Relative Spot Intensity - Mean per Well',\n",
    "'spots_chanel_3_final - Corrected Spot Intensity - Mean per Well',\n",
    "'spots_chanel_3_final - Uncorrected Spot Peak Intensity - Mean per Well',\n",
    "'spots_chanel_3_final - Spot Contrast - Mean per Well',\n",
    "'spots_chanel_3_final - Spot Background Intensity - Mean per Well',\n",
    "'spots_chanel_3_final - Region Intensity - Mean per Well',\n",
    "'spots_chanel_3_final - Spot to Region Intensity - Mean per Well']]\n",
    "df_tmre_i.fillna(0, inplace=True)\n",
    "df_tmre_i.to_csv(path +  '//' + 'tmre_intensity_feat.csv' )\n",
    "df_tmre_i.shape"
   ]
  },
  {
   "cell_type": "code",
   "execution_count": 39,
   "id": "1d35b4d1",
   "metadata": {},
   "outputs": [
    {
     "data": {
      "text/plain": [
       "(484, 5)"
      ]
     },
     "execution_count": 39,
     "metadata": {},
     "output_type": "execute_result"
    }
   ],
   "source": [
    "df_tmre_t = df_clean[['All Cells - chanel_3 Gabor Max 2 px w2 - Mean per Well',\n",
    "'All Cells - chanel_3 SER Spot 1 px - Mean per Well',\n",
    "'All Cells - chanel_3 SER Hole 1 px - Mean per Well',\n",
    "'All Cells - chanel_3 SER Ridge 1 px - Mean per Well',\n",
    "'All Cells - chanel_3 SER Valley 1 px - Mean per Well']]\n",
    "df_tmre_t.fillna(0, inplace=True)\n",
    "df_tmre_t.to_csv(path +  '//' + 'tmre_texture_feat.csv' )\n",
    "df_tmre_t.shape"
   ]
  },
  {
   "cell_type": "code",
   "execution_count": null,
   "id": "a564de2e",
   "metadata": {},
   "outputs": [],
   "source": [
    "#Nuc"
   ]
  },
  {
   "cell_type": "code",
   "execution_count": 40,
   "id": "8462406e",
   "metadata": {},
   "outputs": [
    {
     "data": {
      "text/plain": [
       "(484, 12)"
      ]
     },
     "execution_count": 40,
     "metadata": {},
     "output_type": "execute_result"
    }
   ],
   "source": [
    "df_nuc_a1 = df_clean[['All Cells - chanel_1 Symmetry 02  - Mean per Well',\n",
    "'All Cells - chanel_1 Symmetry 03  - Mean per Well',\n",
    "'All Cells - chanel_1 Symmetry 04  - Mean per Well',\n",
    "'All Cells - chanel_1 Symmetry 05  - Mean per Well',\n",
    "'All Cells - chanel_1 Symmetry 12  - Mean per Well',\n",
    "'All Cells - chanel_1 Symmetry 13  - Mean per Well',\n",
    "'All Cells - chanel_1 Symmetry 14  - Mean per Well',\n",
    "'All Cells - chanel_1 Symmetry 15  - Mean per Well',\n",
    "'All Cells - chanel_1 Axial Small Length  - Mean per Well',\n",
    "'All Cells - chanel_1 Axial Length Ratio  - Mean per Well',\n",
    "'All Cells - chanel_1 Radial Mean  - Mean per Well',\n",
    "'All Cells - chanel_1 Radial Relative Deviation  - Mean per Well']]\n",
    "df_nuc_a1.fillna(0, inplace=True)\n",
    "df_nuc_a1.to_csv(path +  '//' + 'nuc_area1_feat.csv' )\n",
    "df_nuc_a1.shape"
   ]
  },
  {
   "cell_type": "code",
   "execution_count": 41,
   "id": "967c2424",
   "metadata": {},
   "outputs": [
    {
     "data": {
      "text/plain": [
       "(484, 4)"
      ]
     },
     "execution_count": 41,
     "metadata": {},
     "output_type": "execute_result"
    }
   ],
   "source": [
    "df_nuc_a2 = df_clean[[\n",
    "'All Cells - chanel_1 Area [ֲµmֲ²] - Mean per Well',\n",
    "'All Cells - chanel_1 Roundness - Mean per Well',\n",
    "'All Cells - chanel_1 Width [ֲµm] - Mean per Well',\n",
    "'All Cells - chanel_1 Length [ֲµm] - Mean per Well']]\n",
    "df_nuc_a2.fillna(0, inplace=True)\n",
    "df_nuc_a2.to_csv(path +  '//' + 'nuc_area2_feat.csv' )\n",
    "df_nuc_a2.shape"
   ]
  },
  {
   "cell_type": "code",
   "execution_count": 42,
   "id": "cf01037c",
   "metadata": {},
   "outputs": [
    {
     "data": {
      "text/plain": [
       "(484, 5)"
      ]
     },
     "execution_count": 42,
     "metadata": {},
     "output_type": "execute_result"
    }
   ],
   "source": [
    "df_nuc_t = df_clean[['All Cells - chanel_1 Gabor Max 2 px w2 - Mean per Well', \n",
    "'All Cells - chanel_1 SER Spot 1 px - Mean per Well',\n",
    "'All Cells - chanel_1 SER Hole 1 px - Mean per Well',\n",
    "'All Cells - chanel_1 SER Ridge 1 px - Mean per Well',\n",
    "'All Cells - chanel_1 SER Valley 1 px - Mean per Well']]\n",
    "df_nuc_t.fillna(0, inplace=True)\n",
    "df_nuc_t.to_csv(path +  '//' + 'nuc_texture_feat.csv' )\n",
    "df_nuc_t.shape"
   ]
  },
  {
   "cell_type": "code",
   "execution_count": null,
   "id": "957af9df",
   "metadata": {},
   "outputs": [],
   "source": [
    "#Calcien"
   ]
  },
  {
   "cell_type": "code",
   "execution_count": 43,
   "id": "84430445",
   "metadata": {},
   "outputs": [
    {
     "data": {
      "text/plain": [
       "(484, 12)"
      ]
     },
     "execution_count": 43,
     "metadata": {},
     "output_type": "execute_result"
    }
   ],
   "source": [
    "df_calc_a1 = df_clean[[\n",
    "'All Cells - chanel_2 Symmetry 02  - Mean per Well',\n",
    "'All Cells - chanel_2 Symmetry 03  - Mean per Well',\n",
    "'All Cells - chanel_2 Symmetry 04  - Mean per Well',\n",
    "'All Cells - chanel_2 Symmetry 05  - Mean per Well',\n",
    "'All Cells - chanel_2 Symmetry 12  - Mean per Well',\n",
    "'All Cells - chanel_2 Symmetry 13  - Mean per Well',\n",
    "'All Cells - chanel_2 Symmetry 14  - Mean per Well',\n",
    "'All Cells - chanel_2 Symmetry 15  - Mean per Well',\n",
    "'All Cells - chanel_2 Axial Small Length  - Mean per Well',\n",
    "'All Cells - chanel_2 Axial Length Ratio  - Mean per Well',\n",
    "'All Cells - chanel_2 Radial Mean  - Mean per Well',\n",
    "'All Cells - chanel_2 Radial Relative Deviation  - Mean per Well']]\n",
    "df_calc_a1.fillna(0, inplace=True)\n",
    "df_calc_a1.to_csv(path +  '//' + 'calc_area1_feat.csv' )\n",
    "df_calc_a1.shape"
   ]
  },
  {
   "cell_type": "code",
   "execution_count": 44,
   "id": "c5b57150",
   "metadata": {},
   "outputs": [
    {
     "data": {
      "text/plain": [
       "(484, 4)"
      ]
     },
     "execution_count": 44,
     "metadata": {},
     "output_type": "execute_result"
    }
   ],
   "source": [
    "df_calc_a2 = df_clean[['All Cells - chanel_2 Area [ֲµmֲ²] - Mean per Well',\n",
    "'All Cells - chanel_2 Roundness - Mean per Well',\n",
    "'All Cells - chanel_2 Width [ֲµm] - Mean per Well',\n",
    "'All Cells - chanel_2 Length [ֲµm] - Mean per Well']]\n",
    "df_calc_a2.fillna(0, inplace=True)\n",
    "df_calc_a2.to_csv(path +  '//' + 'calc_area2_feat.csv' )\n",
    "df_calc_a2.shape"
   ]
  },
  {
   "cell_type": "code",
   "execution_count": 45,
   "id": "07420e30",
   "metadata": {},
   "outputs": [
    {
     "data": {
      "text/plain": [
       "(484, 5)"
      ]
     },
     "execution_count": 45,
     "metadata": {},
     "output_type": "execute_result"
    }
   ],
   "source": [
    "df_calc_t = df_clean[['All Cells - chanel_2 Gabor Max 2 px w2 - Mean per Well',\n",
    "'All Cells - chanel_2 SER Spot 1 px - Mean per Well',\n",
    "'All Cells - chanel_2 SER Hole 1 px - Mean per Well',\n",
    "'All Cells - chanel_2 SER Ridge 1 px - Mean per Well',\n",
    "'All Cells - chanel_2 SER Valley 1 px - Mean per Well']]\n",
    "df_calc_t.fillna(0, inplace=True)\n",
    "df_calc_t.to_csv(path +  '//' + 'calc_texture_feat.csv' )\n",
    "df_calc_t.shape"
   ]
  },
  {
   "cell_type": "code",
   "execution_count": null,
   "id": "7de208b4",
   "metadata": {},
   "outputs": [],
   "source": [
    "path = ('Results_GSD1a_HCA_back')\n",
    "if not os.path.exists(path):\n",
    "    os.mkdir(path)\n",
    "    print('Output folder created')\n",
    "input_path = [f for f in glob.glob(os.path.join('GSD1a_feat', '*.csv'))]\n",
    "print(input_path) \n",
    "verbose = False\n",
    "for path_i in input_path: \n",
    "    df = pd.read_csv(path_i, skip_blank_lines=True)\n",
    "    path_i.split('.csv')[0].split('GSD1a_feat')[1]\n",
    "    name = path_i.split('.csv')[0].split('GSD1a_feat\\\\')[1]\n",
    "    print('Current file name {}'.format(name))\n",
    "    curr_out_path = path + '//' + '{}'.format(name)\n",
    "    if not os.path.exists(curr_out_path):\n",
    "        os.mkdir(curr_out_path)\n",
    "        print('Output folder created')\n",
    "    # read data and clean\n",
    "    \n",
    "    print(df.shape)\n",
    "   \n",
    "    \n",
    "#     \n",
    "    df = df.replace({'HCNONE': 1, 'GSD1ANONE':2 })\n",
    "    X = df.drop(['group', 'group_with_id', 'group_with_pc', 'group_id_pc', \n",
    "                'Local Outlier Factor 10', 'Unnamed: 0'], axis=1)\n",
    "    print(X.shape)\n",
    "    y = df['group']\n",
    "    lreg = LinearRegression()\n",
    "    sfs1 = sfs(lreg, k_features=2, forward=False, verbose=1, scoring='neg_mean_squared_error')\n",
    "    sfs1 = sfs1.fit(X, y)\n",
    "    feat_names = list(sfs1.k_feature_names_)\n",
    "    new_data = df[feat_names]\n",
    "    new_data['group'] = df['group']\n",
    "    new_data.to_csv(curr_out_path + '//' + '{}_selected_feat.csv'.format(name))\n"
   ]
  },
  {
   "cell_type": "code",
   "execution_count": 25,
   "id": "75e1da58",
   "metadata": {},
   "outputs": [],
   "source": [
    "#keep features by feature selection\n",
    "df_clean_final = df_clean[['All Cells - chanel_2 Symmetry 03  - Mean per Well', 'All Cells - chanel_2 Roundness - Mean per Well', 'All Cells - chanel_2 Symmetry 04  - Mean per Well', \n",
    "                           'All Cells - chanel_2 SER Spot 1 px - Mean per Well', 'All Cells - chanel_2_intensity Mean - Mean per Well',\n",
    "                           'All Cells - chanel_1 Symmetry 05  - Mean per Well', 'All Cells - chanel_1 Radial Relative Deviation  - Mean per Well', \n",
    "                           'All Cells - chanel_1 SER Spot 1 px - Mean per Well', 'All Cells - chanel_1_intensity Mean - Mean per Well',\n",
    "                           'spots_chanel_4_final - spots_chanel_4_final Radial Mean Ratio SER-Spot - Mean per Well', 'All Cells - chanel_4 Threshold Compactness 50%  - Mean per Well', 'modified_ir_chanel_4_ct - modified_ir_chanel_4_ct Roundness - Mean per Well',\n",
    "                           'All Cells - chanel_4 SER Spot 1 px - Mean per Well', 'All Cells - chanel_4 SER Hole 1 px - Mean per Well',\n",
    "                           'All Cells - chanel_4_intensity Mean - Mean per Well',\n",
    "                           'All Cells - chanel_3 Profile 5/5  - Mean per Well', 'total_ir_chanel_3_normalized', 'spots_chanel_3_final - spots_chanel_3_final Radial Mean SER-Spot - Mean per Well',  \n",
    "                           'spots_chanel_3_final - Region Intensity - Mean per Well', \n",
    "                           'All Cells - chanel_3 SER Hole 1 px - Mean per Well', 'All Cells - chanel_3 SER Valley 1 px - Mean per Well',\n",
    "                            'group', 'group_with_id', \"group_with_pc\", \"PC\"]]"
   ]
  },
  {
   "cell_type": "code",
   "execution_count": null,
   "id": "d5aa27a1",
   "metadata": {},
   "outputs": [],
   "source": [
    "#rename features"
   ]
  },
  {
   "cell_type": "code",
   "execution_count": 26,
   "id": "a8109a8b",
   "metadata": {
    "scrolled": true
   },
   "outputs": [],
   "source": [
    "df_clean_final = df_clean_final.rename(\n",
    "     columns={'All Cells - chanel_2 Symmetry 03  - Mean per Well': 'calc_area1', 'All Cells - chanel_2 Roundness - Mean per Well': 'calc_area2', 'All Cells - chanel_2 Symmetry 04  - Mean per Well': 'calc_area3', 'All Cells - chanel_2 Length [ֲµm] - Mean per Well': 'calc_area4',\n",
    "              'All Cells - chanel_2 SER Spot 1 px - Mean per Well': 'calc_text1', 'All Cells - chanel_2_intensity Mean - Mean per Well': 'calc_intensity',\n",
    "              'All Cells - chanel_1 Symmetry 05  - Mean per Well': 'nuc_area1', 'All Cells - chanel_1 Radial Relative Deviation  - Mean per Well': 'nuc_area2', 'All Cells - chanel_1 Area [ֲµmֲ²] - Mean per Well': 'nuc_area3', 'All Cells - chanel_1 Width [ֲµm] - Mean per Well': 'nuc_area4',\n",
    "              'All Cells - chanel_1 SER Spot 1 px - Mean per Well': 'nuc_text1', 'All Cells - chanel_1_intensity Mean - Mean per Well': 'nuc_intensity',\n",
    "              'All Cells - chanel_4 Threshold Compactness 50%  - Mean per Well': 'lyso_area1', 'spots_chanel_4_final - spots_chanel_4_final Radial Mean Ratio SER-Spot - Mean per Well': 'lyso_area2', 'modified_ir_chanel_4_ct - modified_ir_chanel_4_ct Roundness - Mean per Well': 'lyso_area3',\n",
    "              'All Cells - chanel_4 SER Hole 1 px - Mean per Well': 'lyso_text1', 'All Cells - chanel_4 SER Spot 1 px - Mean per Well': 'lyso_text2', 'All Cells - chanel_4_intensity Mean - Mean per Well': 'lyso_intensity1', \n",
    "              'total_ir_chanel_3_normalized': 'tmre_area1', 'All Cells - chanel_3 Profile 5/5  - Mean per Well': 'tmre_area2', 'spots_chanel_3_final - spots_chanel_3_final Radial Mean SER-Spot - Mean per Well': 'tmre_area3',\n",
    "              'All Cells - chanel_3 SER Hole 1 px - Mean per Well': 'tmre_text1', 'All Cells - chanel_3 SER Valley 1 px - Mean per Well': 'tmre_text2', 'spots_chanel_3_final - Region Intensity - Mean per Well': 'tmre_intensity1' \n",
    "             })"
   ]
  },
  {
   "cell_type": "code",
   "execution_count": 77,
   "id": "cd3e16cc",
   "metadata": {},
   "outputs": [],
   "source": [
    "file_cor = 'df_clean_feat_GSD1A.csv'\n",
    "df_clean_final.to_csv(file_cor)"
   ]
  },
  {
   "cell_type": "code",
   "execution_count": null,
   "id": "a9f10529",
   "metadata": {},
   "outputs": [],
   "source": [
    "## export for statistics"
   ]
  },
  {
   "cell_type": "code",
   "execution_count": 29,
   "id": "81486ff6",
   "metadata": {},
   "outputs": [],
   "source": [
    "# CREATE PLATE CONDITION DATA FRAMES\n",
    "df_24 = df_clean_final[df_clean_final['PC'] == 24]\n",
    "df_48 = df_clean_final[df_clean_final['PC'] == 48]\n",
    "df_72 = df_clean_final[df_clean_final['PC'] == 72]\n",
    "#define hc +hc mean data frames \n",
    "#24\n",
    "hc_24 = df_24[(df_24['group'] == 'HCNONE')]\n",
    "hc_24_mean = hc_24.mean()\n",
    "#48\n",
    "hc_48 = df_48[(df_48['group'] == 'HCNONE')]\n",
    "hc_48_mean = hc_48.mean()\n",
    "#72\n",
    "hc_72 = df_72[(df_72['group'] == 'HCNONE')]\n",
    "hc_72_mean = hc_72.mean()\n",
    "# normalize to HC all conditions \n",
    "N_df_24 = df_24/hc_24_mean\n",
    "N_df_48 = df_48/hc_48_mean\n",
    "N_df_72 = df_72/hc_72_mean\n"
   ]
  },
  {
   "cell_type": "code",
   "execution_count": 32,
   "id": "000f6b67",
   "metadata": {
    "scrolled": true
   },
   "outputs": [
    {
     "name": "stdout",
     "output_type": "stream",
     "text": [
      "done\n"
     ]
    },
    {
     "name": "stderr",
     "output_type": "stream",
     "text": [
      "C:\\Users\\MiguelW12\\AppData\\Local\\Temp\\ipykernel_17164\\3657344344.py:13: FutureWarning:\n",
      "\n",
      "save is not part of the public API, usage can give unexpected results and will be removed in a future version\n",
      "\n"
     ]
    }
   ],
   "source": [
    "#initialze the excel writer\n",
    "writer = pd.ExcelWriter(path + '//' + 'n-livesummary-excel.xlsx', engine='xlsxwriter')\n",
    "\n",
    "    #store dataframes in a  dict, where the key is the sheet name \n",
    "frames = {'24': N_df_24, '48': N_df_48,\n",
    "              '72': N_df_72}\n",
    "    \n",
    "    #now loop thru and put each on a specific sheet\n",
    "for sheet, frame in  frames.items(): \n",
    "    frame.to_excel(writer, sheet_name = sheet)\n",
    "\n",
    "    \n",
    "writer.save()\n",
    "    #writer.close()\n",
    "print('done')\n"
   ]
  },
  {
   "cell_type": "code",
   "execution_count": null,
   "id": "73bf4c24",
   "metadata": {},
   "outputs": [],
   "source": [
    "#combine df's outside and read again \n",
    "all_files = glob.glob('gsd1a_stats/*.csv')\n",
    "\n",
    "li = []\n",
    "\n",
    "for filename in all_files:\n",
    "    df = pd.read_csv(filename)\n",
    "    li.append(df)\n",
    "\n",
    "df = pd.concat(li, axis=0, ignore_index=True)\n",
    "df"
   ]
  },
  {
   "cell_type": "code",
   "execution_count": 10,
   "id": "1a0db0ca",
   "metadata": {},
   "outputs": [],
   "source": [
    "df = df.replace({'HCNONE72': 'HC72', 'GSD1ANONE72': 'GSD1A72', \n",
    "                'HCNONE48':'HC48', 'GSD1ANONE48': 'GSD1A48', \n",
    "                'HCNONE24' : 'HC24', 'GSD1ANONE24': 'GSD1A24', \n",
    "                'HCNONE': 'HC', 'GSD1ANONE': 'GSD1A'})"
   ]
  },
  {
   "cell_type": "code",
   "execution_count": null,
   "id": "eab2f317",
   "metadata": {},
   "outputs": [],
   "source": [
    "vis = df.copy()\n",
    "vis = vis.drop(columns=['Unnamed: 0'])\n",
    "vis.set_index([\"group\"], inplace = True,\n",
    "                            append = True, drop = False)"
   ]
  },
  {
   "cell_type": "code",
   "execution_count": null,
   "id": "87fc6731",
   "metadata": {},
   "outputs": [],
   "source": [
    "# visualize each feat and each frame and move on"
   ]
  },
  {
   "cell_type": "code",
   "execution_count": null,
   "id": "51ea6a80",
   "metadata": {},
   "outputs": [],
   "source": [
    "def dist_check(df):\n",
    "    \n",
    "        for col in df:\n",
    "            #Nh_df_24 = Nh_df_24.drop(columns=[\"PC\", \"group_with_pc\", \"group\", \"group_with_id\"])\n",
    "            plt.hist(df[col])\n",
    "            plt.title(f\"Histogram of ({col})\")\n",
    "            plt.xlabel(f\"log({col})\")\n",
    "            plt.ylabel(\"Frequency\")\n",
    "            plt.show()\n",
    "            plt.savefig(path + '//' + f\"hist{col}.pdf\", dpi = 600)\n",
    "            plt.close()\n",
    "            print(\"hist_done!\")\n",
    "            plt.figure()\n",
    "            scipy.stats.probplot(df[col], dist=\"norm\", plot=plt)\n",
    "            plt.title(f\"Q-Q-{col}\")\n",
    "            plt.show\n",
    "            plt.savefig(path + '//' + f\"Q-Q{col}.pdf\", dpi = 600)\n",
    "            plt.close()\n",
    "            print(\"qq_done:)\")\n",
    "            plt.figure()\n",
    "            sns.distplot(df[col], kde = True, color ='red', bins = 30)\n",
    "            plt.title(f\"dist-{col}\")\n",
    "            plt.show\n",
    "            plt.savefig(path + '//' + f\"dist{col}.pdf\", dpi = 600)\n",
    "            plt.close()\n",
    "            print(\"on it:)\")\n",
    "            print(\"done:)\")\n",
    "        "
   ]
  },
  {
   "cell_type": "code",
   "execution_count": null,
   "id": "a09b207e",
   "metadata": {},
   "outputs": [],
   "source": [
    "dist_check(vis)"
   ]
  },
  {
   "cell_type": "code",
   "execution_count": null,
   "id": "78372b39",
   "metadata": {},
   "outputs": [],
   "source": [
    "### box plots all feat\n",
    "for col in vis.columns[3:]:\n",
    "    \n",
    "    fig = px.box(vis, x = \"group\", y = col, \n",
    "                 points=\"all\", color=\"group\",\n",
    "            notched=True)\n",
    "    fig.update_xaxes(categoryorder='array', categoryarray= ['HC', 'GSD1A'])\n",
    "    fig.update_traces(quartilemethod=\"inclusive\") # or \"inclusive\", or \"linear\" by default\n",
    "    fig.update_layout(\n",
    "    font_family=\"Arial\",\n",
    "    font_color=\"Black\",\n",
    "    font_size=20,\n",
    "    font=dict(\n",
    "        family=\"Arial\",\n",
    "        size=20,\n",
    "        color=\"Black\"\n",
    "    )\n",
    ")\n",
    "\n",
    "    fig.write_image(path + '//' + f\"{col}box_plot_image.pdf\", engine=\"kaleido\")\n",
    "    fig.show()"
   ]
  },
  {
   "cell_type": "code",
   "execution_count": null,
   "id": "b87b3eec",
   "metadata": {},
   "outputs": [],
   "source": [
    "##########################################################"
   ]
  }
 ],
 "metadata": {
  "kernelspec": {
   "display_name": "Python 3 (ipykernel)",
   "language": "python",
   "name": "python3"
  },
  "language_info": {
   "codemirror_mode": {
    "name": "ipython",
    "version": 3
   },
   "file_extension": ".py",
   "mimetype": "text/x-python",
   "name": "python",
   "nbconvert_exporter": "python",
   "pygments_lexer": "ipython3",
   "version": "3.9.13"
  }
 },
 "nbformat": 4,
 "nbformat_minor": 5
}
