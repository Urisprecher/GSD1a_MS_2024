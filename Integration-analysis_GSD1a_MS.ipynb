{
 "cells": [
  {
   "cell_type": "code",
   "execution_count": 1,
   "id": "2ff35525",
   "metadata": {},
   "outputs": [],
   "source": [
    "##LIBRARIES\n",
    "import pandas as pd\n",
    "import numpy as np\n",
    "import seaborn as sns\n",
    "import os\n",
    "import sys\n",
    "import glob\n",
    "from sklearn import preprocessing\n",
    "import matplotlib.pyplot as plt\n",
    "from pandas.plotting import scatter_matrix \n",
    "from psynlig import plot_correlation_heatmap\n",
    "import pingouin as pg\n",
    "from scipy.stats import pearsonr\n",
    "import plotly.express as px\n",
    "import kaleido"
   ]
  },
  {
   "cell_type": "code",
   "execution_count": 2,
   "id": "e1778789",
   "metadata": {},
   "outputs": [
    {
     "name": "stdout",
     "output_type": "stream",
     "text": [
      "Output folder created\n"
     ]
    }
   ],
   "source": [
    "path = ('Results_cor_GSD1A_2023MS') \n",
    "if not os.path.exists(path):\n",
    "    os.mkdir(path)\n",
    "    print('Output folder created')"
   ]
  },
  {
   "cell_type": "code",
   "execution_count": null,
   "id": "caf7a2fb",
   "metadata": {},
   "outputs": [],
   "source": [
    "all_files = glob.glob('Uri-integration/*.csv')\n",
    "\n",
    "li = []\n",
    "\n",
    "for filename in all_files:\n",
    "    df = pd.read_csv(filename)\n",
    "    li.append(df)\n",
    "\n",
    "df = pd.concat(li, axis=0, ignore_index=True)"
   ]
  },
  {
   "cell_type": "code",
   "execution_count": null,
   "id": "2ef2f0bb",
   "metadata": {},
   "outputs": [],
   "source": [
    "df[\"Sample\"] = df[\"Cell Type\"].astype(str) + df[\"CELL ID \"].astype(str) + df[\"COMPOUND\"].astype(str)\n",
    "df.set_index([\"Sample\"], inplace = True,\n",
    "                             append = True, drop = False)\n",
    "df.fillna(0, inplace=True)\\\n",
    "df2 = df.groupby(level=1).mean()"
   ]
  },
  {
   "cell_type": "code",
   "execution_count": 6,
   "id": "b5959dfd",
   "metadata": {},
   "outputs": [],
   "source": [
    "df_clean = df2.drop(columns=['CELL ID '])\n",
    "df_normalbymean=(df_clean-df_clean.mean())/df_clean.std()"
   ]
  },
  {
   "cell_type": "code",
   "execution_count": 9,
   "id": "e57b50e8",
   "metadata": {},
   "outputs": [
    {
     "name": "stdout",
     "output_type": "stream",
     "text": [
      "done\n"
     ]
    }
   ],
   "source": [
    "## export for R vis \n",
    "df_normalbymean.to_excel(path + '//' + 'networkanalysis.xlsx')\n",
    "print(\"done\")"
   ]
  },
  {
   "cell_type": "code",
   "execution_count": null,
   "id": "5bd351f5",
   "metadata": {},
   "outputs": [],
   "source": [
    "## corelation "
   ]
  },
  {
   "cell_type": "code",
   "execution_count": null,
   "id": "04224cd9",
   "metadata": {},
   "outputs": [],
   "source": [
    "df = pd.read_csv(r'GSD1A_corelation_data/COR_DATA.csv')"
   ]
  },
  {
   "cell_type": "code",
   "execution_count": null,
   "id": "d92dbee2",
   "metadata": {},
   "outputs": [],
   "source": [
    "df[\"Sample\"] = df[\"Cell Type\"].astype(str) + df[\"CELL ID \"].astype(str) + df[\"COMPOUND\"].astype(str)\n",
    "df.set_index([\"Sample\"], inplace = True,\n",
    "                             append = True, drop = False)\n",
    "df.fillna(0, inplace=True)\n",
    "df.set_index([\"Sample\"], inplace = True,\n",
    "                             append = True, drop = False)"
   ]
  },
  {
   "cell_type": "code",
   "execution_count": null,
   "id": "1e2dd7cf",
   "metadata": {},
   "outputs": [],
   "source": [
    "df2 = df.groupby(level=1).mean()\n",
    "df_clean = df2.drop(columns=['CELL ID '])\n",
    "\n"
   ]
  },
  {
   "cell_type": "code",
   "execution_count": null,
   "id": "3aee750e",
   "metadata": {},
   "outputs": [],
   "source": [
    "##norm1\n",
    "df_normalbymean=(df_clean-df_clean.mean())/df_clean.std()"
   ]
  },
  {
   "cell_type": "code",
   "execution_count": null,
   "id": "e2e3b60b",
   "metadata": {},
   "outputs": [],
   "source": [
    "##norm2\n",
    "df_max_scaled = df_clean.copy()\n",
    "for column in df_max_scaled.columns:\n",
    "    df_max_scaled[column] = df_max_scaled[column]  / df_max_scaled[column].abs().max()"
   ]
  },
  {
   "cell_type": "code",
   "execution_count": null,
   "id": "65eb28be",
   "metadata": {},
   "outputs": [],
   "source": [
    "##norm3\n",
    "df_min_max_scaled = df_clean.copy()\n",
    "for column in df_min_max_scaled.columns:\n",
    "    df_min_max_scaled[column] = (df_min_max_scaled[column] - df_min_max_scaled[column].min()) / (df_min_max_scaled[column].max() - df_min_max_scaled[column].min())   "
   ]
  },
  {
   "cell_type": "code",
   "execution_count": null,
   "id": "2767d1f2",
   "metadata": {},
   "outputs": [],
   "source": [
    "##list frames\n",
    "corleation_list_all = [(df_normalbymean), (df_max_scaled), (df_min_max_scaled)]"
   ]
  },
  {
   "cell_type": "code",
   "execution_count": null,
   "id": "35d90fd8",
   "metadata": {},
   "outputs": [],
   "source": [
    "# define cor function\n",
    "def cor_function(list):\n",
    "      for  x in list:\n",
    "        cor = x.corr(method = 'pearson').round(2)\n",
    "        sns.heatmap(cor, annot=True, vmax=1, vmin=-1, center=0, cmap='vlag')\n",
    "        sns.set_style(\"dark\")\n",
    "        cax = plt.gcf().axes[0]\n",
    "        cax.tick_params(labelsize=10)\n",
    "        plt.yticks(rotation=\"horizontal\", fontsize=6)\n",
    "        plt.xticks(rotation=\"vertical\", fontsize=6)\n",
    "        plt.margins(0.2)\n",
    "        plt.subplots_adjust(bottom=0.4)\n",
    "        name = [i for i in globals() if globals()[i] is x][0]\n",
    "        plt.savefig(path + '\\\\' + '{}pearsonheatmap2_full-tryP.pdf'.format(name))\n",
    "        plt.close()\n",
    "        cor = cor.unstack()\n",
    "        cor = abs(cor)\n",
    "        writer = pd.ExcelWriter(path + '//' + '{}PCORDATA-excel.xlsx'.format(name), engine='xlsxwriter')\n",
    "        cor.to_excel(writer)\n",
    "        writer.save()\n",
    "        print('done:)')\n",
    "        rho = x.corr()\n",
    "        pval = x.corr(method=lambda x, y: pearsonr(x, y)[1]) - np.eye(*rho.shape)\n",
    "        p = pval.applymap(lambda x: ''.join(['*' for t in [0.0001,0.001,0.01,0.1,] if x<=t]))\n",
    "        try_1 = rho.round(2).astype(str) + p\n",
    "        try_1.to_html(path + '\\\\' + '{}try1.html'.format(name))\n",
    "        print('done:)2')"
   ]
  },
  {
   "cell_type": "code",
   "execution_count": null,
   "id": "75e7bf5d",
   "metadata": {},
   "outputs": [],
   "source": [
    "def bubble_plot(list):\n",
    "    for x in list:\n",
    "        kwargs = {\n",
    "    'heatmap': {\n",
    "        'vmin': -1,\n",
    "        'vmax': 1,\n",
    "        'cmap': 'viridis',\n",
    "    },\n",
    "    'figure': {\n",
    "        'figsize': (12,8),\n",
    "    },\n",
    "    }\n",
    "        name = [i for i in globals() if globals()[i] is x][0]\n",
    "        plot_correlation_heatmap(x, bubble=True, annotate=True,textcolors=['white', 'black'],\n",
    "                                 val_fmt='{x:.2f}',  **kwargs)\n",
    "        plt.style.use(\"classic\")\n",
    "        cax = plt.gcf().axes[0]\n",
    "#         cax.tick_params(labelsize=3)\n",
    "#         plt.yticks(rotation=\"horizontal\", fontsize=6)\n",
    "#         plt.xticks(rotation=\"horizontal\", fontsize=6)\n",
    "        font = {'family' : 'Arial',\n",
    "        'size'   : 10}\n",
    "\n",
    "        plt.rc('font', **font)\n",
    "# plt.margins(0.1)\n",
    "# plt.subplots_adjust(bottom=0.3)\n",
    "        plt.savefig(path + '\\\\' + '{}bubblescatmatrixv2.pdf'.format(name), dpi=600)\n",
    "        plt.show()\n",
    "        print('done:)')\n"
   ]
  },
  {
   "cell_type": "code",
   "execution_count": null,
   "id": "14105dc7",
   "metadata": {},
   "outputs": [],
   "source": [
    "cor_function(corleation_list_all)\n",
    "bubble_plot(corleation_list_all)"
   ]
  },
  {
   "cell_type": "code",
   "execution_count": null,
   "id": "b1bba6d3",
   "metadata": {},
   "outputs": [],
   "source": [
    "####OMICS INTEGRATION VIS "
   ]
  },
  {
   "cell_type": "code",
   "execution_count": null,
   "id": "d19a2b8f",
   "metadata": {},
   "outputs": [],
   "source": [
    "path = pd.read_csv(r'enrichr_pathways.csv')"
   ]
  },
  {
   "cell_type": "code",
   "execution_count": null,
   "id": "6d078844",
   "metadata": {},
   "outputs": [],
   "source": [
    "fig = px.bar(path, x=\"log10(adj.p_val)\", y=\"Term\", orientation='h',\n",
    "            color='Combined Score', height=400,\n",
    "            labels={\"Term\": \"pathway\"}\n",
    "             # add day column to hover data\n",
    "           )\n",
    "fig.update_layout(\n",
    "            font_family=\"Arial\",\n",
    "            font_color=\"Black\",\n",
    "            font_size=8,\n",
    "            font=dict(\n",
    "                family=\"Arial\",\n",
    "                size=10,\n",
    "                color=\"Black\"))\n",
    "fig.show()\n",
    "fig.write_image(\"enrichr.pdf\", engine=\"kaleido\")"
   ]
  },
  {
   "cell_type": "code",
   "execution_count": null,
   "id": "5304dd78",
   "metadata": {},
   "outputs": [],
   "source": []
  },
  {
   "cell_type": "code",
   "execution_count": null,
   "id": "565b4b49",
   "metadata": {},
   "outputs": [],
   "source": [
    "##################################################"
   ]
  }
 ],
 "metadata": {
  "kernelspec": {
   "display_name": "Python 3 (ipykernel)",
   "language": "python",
   "name": "python3"
  },
  "language_info": {
   "codemirror_mode": {
    "name": "ipython",
    "version": 3
   },
   "file_extension": ".py",
   "mimetype": "text/x-python",
   "name": "python",
   "nbconvert_exporter": "python",
   "pygments_lexer": "ipython3",
   "version": "3.9.13"
  }
 },
 "nbformat": 4,
 "nbformat_minor": 5
}
