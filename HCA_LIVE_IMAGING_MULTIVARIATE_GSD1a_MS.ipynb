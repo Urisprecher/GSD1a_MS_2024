{
 "cells": [
  {
   "cell_type": "code",
   "execution_count": 1,
   "id": "50deac75",
   "metadata": {},
   "outputs": [],
   "source": [
    "import pandas as pd\n",
    "import numpy as np\n",
    "import seaborn as sns\n",
    "import os\n",
    "import sys\n",
    "import glob\n",
    "from sklearn import preprocessing\n",
    "import matplotlib.pyplot as plt\n",
    "from pandas.plotting import scatter_matrix \n",
    "%matplotlib inline\n",
    "from pptx import Presentation \n",
    "from pptx.util import Inches \n",
    "from sklearn.decomposition import PCA\n",
    "from sklearn.preprocessing import StandardScaler\n",
    "from sklearn.discriminant_analysis import LinearDiscriminantAnalysis as LDA\n",
    "from sklearn.discriminant_analysis import QuadraticDiscriminantAnalysis as QDA\n",
    "from sklearn.manifold import TSNE\n",
    "from colour import Color\n",
    "import matplotlib as mpl\n",
    "import scipy, random\n",
    "from matplotlib.patches import Ellipse\n",
    "import matplotlib.transforms as transforms\n",
    "from pandas.api.types import CategoricalDtype"
   ]
  },
  {
   "cell_type": "code",
   "execution_count": null,
   "id": "2a3e5ebb",
   "metadata": {},
   "outputs": [],
   "source": [
    "##data upload "
   ]
  },
  {
   "cell_type": "code",
   "execution_count": 2,
   "id": "bfcdb109",
   "metadata": {},
   "outputs": [
    {
     "name": "stdout",
     "output_type": "stream",
     "text": [
      "Output folder created\n"
     ]
    }
   ],
   "source": [
    "path = ('RESULTS_Live_HCA_GSD1A') \n",
    "if not os.path.exists(path):\n",
    "    os.mkdir(path)\n",
    "    print('Output folder created')"
   ]
  },
  {
   "cell_type": "code",
   "execution_count": null,
   "id": "0d547ba8",
   "metadata": {},
   "outputs": [],
   "source": [
    "df = pd.read_csv(r'gsd1a_final/3df_cor_feat_GSD1A_final.csv')\n"
   ]
  },
  {
   "cell_type": "code",
   "execution_count": null,
   "id": "da748773",
   "metadata": {},
   "outputs": [],
   "source": [
    "## data clean-up"
   ]
  },
  {
   "cell_type": "code",
   "execution_count": 5,
   "id": "0b37bdd6",
   "metadata": {},
   "outputs": [],
   "source": [
    "df = df.replace({'HCNONE72': 'HC72', 'GSD1ANONE72': 'GSD1A72', \n",
    "                'HCNONE48':'HC48', 'GSD1ANONE48': 'GSD1A48', \n",
    "                'HCNONE24' : 'HC24', 'GSD1ANONE24': 'GSD1A24', \n",
    "                'HCNONE': 'HC', 'GSD1ANONE': 'GSD1A'})"
   ]
  },
  {
   "cell_type": "code",
   "execution_count": null,
   "id": "622a67c8",
   "metadata": {},
   "outputs": [],
   "source": [
    "CLEAN_SCAT_HEAT_DATA = df.drop(columns=['Unnamed: 0',\n",
    "                                        'Local Outlier Factor 10', 'group.1', 'group_with_id.1', 'group_with_pc.1'])"
   ]
  },
  {
   "cell_type": "code",
   "execution_count": null,
   "id": "22e26043",
   "metadata": {},
   "outputs": [],
   "source": [
    "CLEAN_SCAT_HEAT_DATA_f = CLEAN_SCAT_HEAT_DATA.copy()\n",
    "CLEAN_SCAT_HEAT_DATA_f.set_index([\"group\"], inplace = True,\n",
    "                            append = True, drop = False)"
   ]
  },
  {
   "cell_type": "code",
   "execution_count": null,
   "id": "a242ce23",
   "metadata": {},
   "outputs": [],
   "source": [
    "##scatter vis"
   ]
  },
  {
   "cell_type": "code",
   "execution_count": null,
   "id": "a952beeb",
   "metadata": {},
   "outputs": [],
   "source": [
    "c_l = sns.color_palette(\"Paired\", 3)\n",
    "sns.lineplot(x='group', y='tmre_text1', hue='PC', data=CLEAN_SCAT_HEAT_DATA_f, palette= c_l,\n",
    "            style='PC', size='PC', ci=90, markers=True, err_style=\"band\")\n",
    "plt.legend(title='CONDITION', fontsize=12)\n",
    "plt.tick_params(axis='both', which='major', labelsize=10)\n",
    "plt.savefig(path + '\\\\' + 'tmre_line-plot.pdf', dpi=600) "
   ]
  },
  {
   "cell_type": "code",
   "execution_count": null,
   "id": "d920bc91",
   "metadata": {},
   "outputs": [],
   "source": [
    "sns.lineplot(x='group', y='calc_text1', hue='PC', data=CLEAN_SCAT_HEAT_DATA_f, palette = c_l,\n",
    "            style='PC', size='PC', ci=90, markers=True, err_style=\"band\")\n",
    "plt.legend(title='CONDITION', fontsize=12)\n",
    "plt.tick_params(axis='both', which='major', labelsize=10)\n",
    "plt.savefig(path + '\\\\' + 'calcein_line-plot.pdf', dpi=600) "
   ]
  },
  {
   "cell_type": "code",
   "execution_count": null,
   "id": "bf7c1eb8",
   "metadata": {},
   "outputs": [],
   "source": [
    "c_l = sns.color_palette(\"Paired\", 3)\n",
    "sns.lineplot(x='group', y='nuc_area1', hue='PC', data=CLEAN_SCAT_HEAT_DATA_f,palette= c_l,\n",
    "size='PC', ci=90, markers=True, err_style=\"band\", style='PC'\n",
    "            )\n",
    "plt.legend(title='CONDITION', fontsize=12)\n",
    "plt.tick_params(axis='both', which='major', labelsize=10)\n",
    "plt.savefig(path + '\\\\' + 'Nuc_line-plot.pdf', dpi=600) "
   ]
  },
  {
   "cell_type": "code",
   "execution_count": null,
   "id": "03f37d9e",
   "metadata": {},
   "outputs": [],
   "source": [
    "sns.lineplot(x='group', y='lyso_text1', hue='PC', data=CLEAN_SCAT_HEAT_DATA_f, palette=c_l,\n",
    "            style='PC', size='PC', ci=90, markers=True, err_style=\"band\")\n",
    "plt.legend(title='CONDITION', fontsize=12)\n",
    "plt.tick_params(axis='both', which='major', labelsize=10)\n",
    "plt.savefig(path + '\\\\' + 'Lyso_line-plot.pdf', dpi=600) "
   ]
  },
  {
   "cell_type": "code",
   "execution_count": null,
   "id": "a766633c",
   "metadata": {},
   "outputs": [],
   "source": [
    "##heatmap vis"
   ]
  },
  {
   "cell_type": "code",
   "execution_count": null,
   "id": "f1a34476",
   "metadata": {},
   "outputs": [],
   "source": [
    "CLEAN_dfheatmapREAL = CLEAN_SCAT_HEAT_DATA_f.copy()\n",
    "CLEAN_dfheatmapREAL.set_index([\"group_with_pc\"], inplace = True,\n",
    "                            append = True, drop = False)"
   ]
  },
  {
   "cell_type": "code",
   "execution_count": null,
   "id": "771d83e0",
   "metadata": {},
   "outputs": [],
   "source": [
    "CLEAN_dfheatmapREAL = CLEAN_dfheatmapREAL.groupby(level=2).mean()\n",
    "CLEAN_dfheatmap_final = CLEAN_dfheatmapREAL.drop(columns=['PC'])\n",
    "CLEAN_dfheatmap_final.fillna(0, inplace=True)\n",
    "CLEAN_dfheatmap_final_NORMAL = CLEAN_dfheatmap_final.copy()\n",
    "CLEAN_dfheatmap_final_NORMAL=(CLEAN_dfheatmap_final_NORMAL-CLEAN_dfheatmap_final_NORMAL.mean())/CLEAN_dfheatmap_final_NORMAL.std()"
   ]
  },
  {
   "cell_type": "code",
   "execution_count": null,
   "id": "f606e836",
   "metadata": {},
   "outputs": [],
   "source": [
    "col = sns.diverging_palette(220, 20, as_cmap=True)\n",
    "sns.heatmap(CLEAN_dfheatmap_final_NORMAL, cmap=col)\n",
    "\n",
    "sns.set_style(\"white\")\n",
    "SMALL_SIZE = 3\n",
    "MEDIUM_SIZE = 5\n",
    "BIGGER_SIZE = 12\n",
    "plt.rc('font', size=SMALL_SIZE)          # controls default text sizes\n",
    "plt.rc('axes', titlesize=SMALL_SIZE)     # fontsize of the axes title\n",
    "plt.rc('axes', labelsize=SMALL_SIZE)    # fontsize of the x and y labels\n",
    "plt.rc('xtick', labelsize=SMALL_SIZE)    # fontsize of the tick labels\n",
    "plt.rc('ytick', labelsize=MEDIUM_SIZE)    # fontsize of the tick labels\n",
    "plt.rc('legend', fontsize=SMALL_SIZE)    # legend fontsize\n",
    "plt.rc('figure', titlesize=BIGGER_SIZE)  # fontsize of the figure title\n",
    "cax = plt.gcf().axes[0]\n",
    "cax.tick_params(labelsize=3)\n",
    "plt.yticks(rotation=\"horizontal\")\n",
    "plt.xticks(rotation=\"vertical\")\n",
    "plt.margins(0.1)\n",
    "plt.subplots_adjust(bottom=0.3)\n",
    "plt.savefig(path + '\\\\' + 'HEATMAP1.png', dpi=300)\n",
    "plt.show() "
   ]
  },
  {
   "cell_type": "code",
   "execution_count": null,
   "id": "0d961b3c",
   "metadata": {},
   "outputs": [],
   "source": [
    "#antoher represantion with different index \n",
    "index_list = CLEAN_dfheatmap_final_NORMAL.index.values\n",
    "hc_list = [index for index in index_list if \"HC\" == index[:2]]\n",
    "ds_list = [index for index in index_list if \"HC\" != index[:2]]\n",
    "#     hc_list\n",
    "new_list = []\n",
    "max_len = min(len(hc_list),len(ds_list))\n",
    "for i in range(max_len*2):\n",
    "    new_list.append(hc_list[int(i/2)] if i%2==0 else ds_list[int((i-1)/2)])\n",
    "    if len(hc_list)>max_len:\n",
    "        new_list += hc_list[max_len:]\n",
    "    if len(ds_list)>max_len:\n",
    "        new_list += ds_list[max_len:]  \n",
    "#     print(new_list)        \n",
    "lan = plt.rcParams['font.family'] = ['Arial']\n",
    "CLEAN_dfheatmap_final_NORMALv2 = CLEAN_dfheatmap_final_NORMAL.reindex(new_list)\n",
    "col = sns.diverging_palette(220, 20, as_cmap=True)\n",
    "col = sns.diverging_palette(145, 300, s=60, as_cmap=True)\n",
    "col = sns.color_palette(\"vlag\", as_cmap=True)\n",
    "sns.heatmap(CLEAN_dfheatmap_final_NORMALv2, cmap=col)\n",
    "\n",
    "sns.set_style(\"white\")\n",
    "font = {'family' : 'Arial',\n",
    "        'size'   : 22}\n",
    "\n",
    "plt.rc('font', **font)\n",
    "cax = plt.gcf().axes[0]\n",
    "cax.tick_params(labelsize=6)\n",
    "plt.yticks(family = 'Arial', rotation=\"horizontal\", size = 10)\n",
    "plt.xticks(family = 'Arial', rotation=\"vertical\", size= 8 )\n",
    "plt.margins(0.1)\n",
    "plt.subplots_adjust(bottom=0.3)\n",
    "plt.savefig(path + '\\\\' + 'HEATMAP2.pdf', dpi=300 )\n",
    "plt.show()\n",
    " "
   ]
  },
  {
   "cell_type": "code",
   "execution_count": null,
   "id": "becf3ee5",
   "metadata": {},
   "outputs": [],
   "source": [
    "# PCA+LDA analysis"
   ]
  },
  {
   "cell_type": "code",
   "execution_count": null,
   "id": "2f29818e",
   "metadata": {},
   "outputs": [],
   "source": []
  },
  {
   "cell_type": "code",
   "execution_count": 18,
   "id": "d54676cb",
   "metadata": {},
   "outputs": [],
   "source": [
    "#PCA"
   ]
  },
  {
   "cell_type": "code",
   "execution_count": null,
   "id": "fc0aad57",
   "metadata": {},
   "outputs": [],
   "source": [
    "PCA_DATA_CLEAN = CLEAN_SCAT_HEAT_DATA.copy()\n",
    "PCA_DATA_CLEAN = PCA_DATA_CLEAN.groupby('group_with_pc', as_index=False).mean()"
   ]
  },
  {
   "cell_type": "code",
   "execution_count": null,
   "id": "d3c8c085",
   "metadata": {},
   "outputs": [],
   "source": [
    "features = PCA_DATA_CLEAN.columns[4:]\n",
    "x = PCA_DATA_CLEAN.loc[:, features].values\n",
    "y = PCA_DATA_CLEAN.loc[:,['group_with_pc']].values\n",
    "x = StandardScaler().fit_transform(x)\n",
    "pd.DataFrame(data = x, columns = features).head()\n",
    "pca = PCA(n_components=2)\n",
    "principalComponents = pca.fit_transform(x)\n",
    "PCA_DATA_COMP = pd.DataFrame(data = principalComponents\n",
    "               , columns = ['principal component 1', 'principal component 2'])\n",
    "importances = pd.DataFrame(data = abs(pca.components_).transpose(), columns = ['PC1', 'PC2'])\n",
    "importances['Feature'] = features\n",
    "display(importances.sort_values('PC1', ascending = False).reset_index(drop = True))\n",
    "imp = importances.sort_values('PC2', ascending = False)[0:30]\n",
    "ax1 = sns.barplot(x = 'PC2', y = 'Feature', data = imp)\n",
    "  \n",
    "fig = ax1.get_figure()\n",
    "fig.set_size_inches(4, 8)\n",
    "ax1.set_xticklabels(ax1.get_xticklabels(), rotation = 90) \n",
    "plt.savefig(path + '\\\\' + 'pca1importancefeat1.pdf', dpi=600 )\n",
    "plt.show()\n",
    "imp2 = importances.sort_values('PC1', ascending = False)[0:30]\n",
    "ax2 = sns.barplot(x = 'PC1', y = 'Feature', data = imp2)\n",
    "fig = ax2.get_figure()\n",
    "fig.set_size_inches(4, 8)\n",
    "ax2.set_xticklabels(ax2.get_xticklabels(), rotation = 90)\n",
    "plt.savefig(path + '\\\\' + 'pca1importancefeat2.pdf', dpi=600 )\n",
    "plt.show()\n",
    "\n",
    "PCA_DATA_FINAL = pd.concat([PCA_DATA_COMP, PCA_DATA_CLEAN['group_with_pc']], axis = 1)\n",
    "PCA_FIG = plt.figure(figsize = (8,8))\n",
    "ax1 = PCA_FIG.add_subplot(1,1,1) \n",
    "ax1.set_xlabel('PC1', fontsize = 20, fontname=\"Arial\")\n",
    "ax1.set_ylabel('PC2', fontsize = 20, fontname=\"Arial\")\n",
    "ax1.tick_params(axis='x', labelsize=10)\n",
    "ax1.tick_params(axis='y', labelsize=10)\n",
    "for tick in ax1.get_xticklabels():\n",
    "    tick.set_fontname(\"Arial\")\n",
    "for tick in ax1.get_yticklabels():\n",
    "    tick.set_fontname(\"Arial\")\n",
    "\n",
    "types = PCA_DATA_FINAL[\"group_with_pc\"].unique()\n",
    "targets1 = [index for index in types]\n",
    "reds = list( Color(\"red\").range_to(Color(\"white\"),6))\n",
    "greens = list( Color(\"green\").range_to(Color(\"white\"),6))\n",
    "blues = list( Color(\"blue\").range_to(Color(\"white\"),6))\n",
    "\n",
    "for target in targets1:\n",
    "    if 'HC' == target[:2]:\n",
    "        color = blues[0] \n",
    "    elif 'GSD1A' in target:\n",
    "        color = reds[0] \n",
    "    else:\n",
    "        color = greens[0]\n",
    "    ## get saturation according time...\n",
    "    if '24' in target:\n",
    "        alpha = 1\n",
    "    elif '48' in target:\n",
    "        alpha = 0.5    \n",
    "    else:\n",
    "        alpha = 0.2\n",
    "        \n",
    "    \n",
    "\n",
    "    indicesToKeep = PCA_DATA_FINAL['group_with_pc'] == target\n",
    "    ax1.scatter(PCA_DATA_FINAL.loc[indicesToKeep, 'principal component 1']\n",
    "            , PCA_DATA_FINAL.loc[indicesToKeep, 'principal component 2']\n",
    "            , c = mpl.colors.to_hex(str(color)),alpha=alpha\n",
    "            , s = 50)\n",
    "scale = 6    \n",
    "ax1.legend(targets1*scale,fontsize=12)\n",
    "ax1.grid()\n",
    "\n",
    "\n",
    "\n",
    "print(pca.explained_variance_ratio_)\n",
    "plt.savefig(path + '\\\\' + 'pca3.pdf', dpi=600 )\n",
    "plt.show()"
   ]
  },
  {
   "cell_type": "code",
   "execution_count": 23,
   "id": "af048340",
   "metadata": {},
   "outputs": [],
   "source": [
    "#LDA"
   ]
  },
  {
   "cell_type": "code",
   "execution_count": 25,
   "id": "1f0285a4",
   "metadata": {},
   "outputs": [],
   "source": [
    "PCA_DATA_CLEAN = CLEAN_SCAT_HEAT_DATA.copy()"
   ]
  },
  {
   "cell_type": "code",
   "execution_count": null,
   "id": "0f2d0fd9",
   "metadata": {},
   "outputs": [],
   "source": [
    "x = PCA_DATA_CLEAN.loc[:, features].values\n",
    "y = PCA_DATA_CLEAN.loc[:,['group']].values\n",
    "y = np.array([int('HC' == y_i[0][:2]) for y_i in y])\n",
    "\n",
    "y[0]=2\n",
    "x = StandardScaler().fit_transform(x)\n",
    "\n",
    "lda = LDA(n_components=2)\n",
    "lda_x = np.array(lda.fit(x, y).transform(x))\n",
    "\n",
    "\n",
    "importances = pd.DataFrame(data = abs(lda.scalings_), columns = ['PC1', 'PC2'])\n",
    "importances['Feature'] = features\n",
    "display(importances.sort_values('PC1', ascending = False).reset_index(drop = True))\n",
    "imp = importances.sort_values('PC2', ascending = False)[0:30]\n",
    "ax1 = sns.barplot(x = 'PC2', y = 'Feature', data = imp)\n",
    "    \n",
    "fig = ax1.get_figure()\n",
    "fig.set_size_inches(4, 8)\n",
    "plt.rc('ytick', labelsize=3)\n",
    "ax1.set_xticklabels(ax1.get_xticklabels(), rotation = 90)  \n",
    "plt.savefig(path + '\\\\' + 'LDA1importancefeat1.pdf', dpi=600)\n",
    "plt.show()\n",
    "imp2 = importances.sort_values('PC1', ascending = False)[0:30]\n",
    "ax2 = sns.barplot(x = 'PC1', y = 'Feature', data = imp2)\n",
    "fig = ax2.get_figure()\n",
    "fig.set_size_inches(4, 8)\n",
    "plt.rc('ytick', labelsize=3)\n",
    "ax2.set_xticklabels(ax2.get_xticklabels(), rotation = 90) \n",
    "plt.savefig(path + '\\\\' + 'LDA1importancefeat2.pdf', dpi=600)\n",
    "plt.show()\n",
    "\n",
    "font = {'family' : 'Arial',\n",
    "        'size'   : 22}\n",
    "\n",
    "plt.rc('font', **font)\n",
    "\n",
    "\n",
    "target_names= ['GSD1A', 'HC']\n",
    "plt.figure()\n",
    "plt.figure(figsize = (8,8))\n",
    "for c, i, target_name in zip(\"rb\", [0, 1], target_names):\n",
    "    plt.scatter(lda_x[y == i,0] , lda_x[y == i,1] , c=c, label=target_name)\n",
    "    plt.legend(target_names*scale,fontsize=12)\n",
    "#     plt.title('LDA of dataset')\n",
    "    plt.xlabel('LD1', fontsize = 20, family = 'Arial')\n",
    "    plt.ylabel('LD2', fontsize = 20, family = 'Arial')\n",
    "    plt.yticks(family = 'Arial', size = 10)\n",
    "    plt.xticks(family = 'Arial', size= 10)\n",
    "print(lda.explained_variance_ratio_)            \n",
    "plt.savefig(path + '\\\\' + 'LDA.pdf', dpi=600 )\n",
    "plt.show()"
   ]
  },
  {
   "cell_type": "code",
   "execution_count": null,
   "id": "ce5f5c73",
   "metadata": {},
   "outputs": [],
   "source": [
    "##reversal HCA data analysis"
   ]
  },
  {
   "cell_type": "code",
   "execution_count": 15,
   "id": "8512264e",
   "metadata": {
    "scrolled": true
   },
   "outputs": [
    {
     "name": "stdout",
     "output_type": "stream",
     "text": [
      "Output folder created\n"
     ]
    }
   ],
   "source": [
    "path = ('RESULTS_Live_reversal_GSD1A_') \n",
    "if not os.path.exists(path):\n",
    "    os.mkdir(path)\n",
    "    print('Output folder created')"
   ]
  },
  {
   "cell_type": "code",
   "execution_count": null,
   "id": "a9f4e7fb",
   "metadata": {},
   "outputs": [],
   "source": [
    "#upload data\n",
    "df = pd.read_csv(r'gsd1a_ee_final_combined/3df_cor_feat_GSD1A_final_ee_combined.csv')"
   ]
  },
  {
   "cell_type": "code",
   "execution_count": null,
   "id": "5826ef21",
   "metadata": {},
   "outputs": [],
   "source": [
    "### heatmap-mean_diff"
   ]
  },
  {
   "cell_type": "code",
   "execution_count": 31,
   "id": "11cc3b65",
   "metadata": {
    "scrolled": true
   },
   "outputs": [
    {
     "name": "stderr",
     "output_type": "stream",
     "text": [
      "C:\\Users\\MiguelW12\\AppData\\Local\\Temp\\ipykernel_22848\\459865928.py:6: FutureWarning:\n",
      "\n",
      "The default value of numeric_only in DataFrameGroupBy.mean is deprecated. In a future version, numeric_only will default to False. Either specify numeric_only or select only columns which should be valid for the function.\n",
      "\n"
     ]
    }
   ],
   "source": [
    "#index and clean\n",
    "CLEAN_SCAT_HEAT_DATA.set_index([\"group\"], inplace = True,\n",
    "                            append = True, drop = False)\n",
    "CLEAN_dfheatmapREAL = CLEAN_SCAT_HEAT_DATA.copy()\n",
    "CLEAN_dfheatmapREAL.set_index([\"group_with_pc\"], inplace = True,\n",
    "                            append = True, drop = False)\n",
    "CLEAN_dfheatmapREAL = CLEAN_dfheatmapREAL.groupby(level=2).mean()\n",
    "CLEAN_dfheatmap_final = CLEAN_dfheatmapREAL.drop(columns=['PC'])\n",
    "CLEAN_dfheatmap_final.fillna(0, inplace=True)\n",
    "CLEAN_dfheatmap_final_NORMAL = CLEAN_dfheatmap_final.copy()"
   ]
  },
  {
   "cell_type": "code",
   "execution_count": null,
   "id": "ada8e581",
   "metadata": {},
   "outputs": [],
   "source": [
    "#scale and rename\n",
    "df2=(CLEAN_dfheatmap_final_NORMAL-CLEAN_dfheatmap_final_NORMAL.mean())/CLEAN_dfheatmap_final_NORMAL.std()\n",
    "df2 = df2.reset_index()\n",
    "df2 = df2.replace({'HCNONE72': 'HC', 'HCTNONE72': 'HCT', 'GSD1ANONE72':'GSD1a',\n",
    "                   'GSD1ATNONE72':'GSD1aT'\n",
    "                })\n"
   ]
  },
  {
   "cell_type": "code",
   "execution_count": 55,
   "id": "57bad8a2",
   "metadata": {
    "scrolled": true
   },
   "outputs": [
    {
     "name": "stdout",
     "output_type": "stream",
     "text": [
      "            calc_area1  calc_area2  calc_area3  calc_text1  calc_intensity  \\\n",
      "HC  GSD1a    -2.215520    1.149845    2.000369   -1.127265        0.553428   \n",
      "HCT GSD1aT   -1.039823    1.426689    1.061467   -0.350375        0.884463   \n",
      "\n",
      "            nuc_area1  nuc_area2  nuc_text1  nuc_intensity  lyso_area2  ...  \\\n",
      "HC  GSD1a    1.210633   1.952453  -0.850176       0.554622   -2.090519  ...   \n",
      "HCT GSD1aT   0.769492   1.479151   0.127555       0.503831   -0.966988  ...   \n",
      "\n",
      "            lyso_area3  lyso_text2  lyso_text1  lyso_intensity1  tmre_area2  \\\n",
      "HC  GSD1a    -0.896392    0.423843    1.671126          2.07733    1.136619   \n",
      "HCT GSD1aT   -0.717233   -0.131570    0.651296          1.22631    0.512693   \n",
      "\n",
      "            tmre_area1  tmre_area3  tmre_intensity1  tmre_text1  tmre_text2  \n",
      "HC  GSD1a     0.924170   -0.521093         0.879255    1.119192    0.292425  \n",
      "HCT GSD1aT    0.597165    0.030857         0.423227    0.508284   -0.144644  \n",
      "\n",
      "[2 rows x 21 columns]\n"
     ]
    },
    {
     "name": "stderr",
     "output_type": "stream",
     "text": [
      "C:\\Users\\MiguelW12\\AppData\\Local\\Temp\\ipykernel_22848\\3771220964.py:14: FutureWarning:\n",
      "\n",
      "The default value of numeric_only in DataFrame.mean is deprecated. In a future version, it will default to False. In addition, specifying 'numeric_only=None' is deprecated. Select only valid columns or specify the value of numeric_only to silence this warning.\n",
      "\n"
     ]
    }
   ],
   "source": [
    "def compute_mean_differences(df, group_col, groups):\n",
    "    result_data = {}\n",
    "\n",
    "    for group_pair in groups:\n",
    "        group1, group2 = group_pair\n",
    "        if group1 not in df[group_col].unique() or group2 not in df[group_col].unique():\n",
    "            raise ValueError(f\"Both {group1} and {group2} should exist in the {group_col} column.\")\n",
    "       \n",
    "        # data for specified groups\n",
    "        group1_data = df[df[group_col] == group1]\n",
    "        group2_data = df[df[group_col] == group2]\n",
    "\n",
    "        # Calculate mean differences for each feature\n",
    "        mean_diff = group1_data.mean() - group2_data.mean()\n",
    "        result_data[group_pair] = mean_diff\n",
    "\n",
    "    #new df with results\n",
    "    result_df = pd.DataFrame(result_data)\n",
    "\n",
    "    # Transpose & return\n",
    "    return result_df.T\n",
    "\n",
    "#implement\n",
    "group_pairs = [('HC', 'GSD1a'), ('HCT', 'GSD1aT')]\n",
    "result_df = compute_mean_differences(df2, 'group_with_pc', group_pairs)\n",
    "print(result_df)"
   ]
  },
  {
   "cell_type": "code",
   "execution_count": 27,
   "id": "3174d201",
   "metadata": {
    "scrolled": false
   },
   "outputs": [
    {
     "data": {
      "text/html": [
       "<div>\n",
       "<style scoped>\n",
       "    .dataframe tbody tr th:only-of-type {\n",
       "        vertical-align: middle;\n",
       "    }\n",
       "\n",
       "    .dataframe tbody tr th {\n",
       "        vertical-align: top;\n",
       "    }\n",
       "\n",
       "    .dataframe thead th {\n",
       "        text-align: right;\n",
       "    }\n",
       "</style>\n",
       "<table border=\"1\" class=\"dataframe\">\n",
       "  <thead>\n",
       "    <tr style=\"text-align: right;\">\n",
       "      <th></th>\n",
       "      <th></th>\n",
       "      <th>calc_area1</th>\n",
       "      <th>calc_area2</th>\n",
       "      <th>calc_area3</th>\n",
       "      <th>calc_text1</th>\n",
       "      <th>calc_intensity</th>\n",
       "      <th>nuc_area1</th>\n",
       "      <th>nuc_area2</th>\n",
       "      <th>nuc_text1</th>\n",
       "      <th>nuc_intensity</th>\n",
       "      <th>lyso_area2</th>\n",
       "      <th>...</th>\n",
       "      <th>lyso_area3</th>\n",
       "      <th>lyso_text2</th>\n",
       "      <th>lyso_text1</th>\n",
       "      <th>lyso_intensity1</th>\n",
       "      <th>tmre_area2</th>\n",
       "      <th>tmre_area1</th>\n",
       "      <th>tmre_area3</th>\n",
       "      <th>tmre_intensity1</th>\n",
       "      <th>tmre_text1</th>\n",
       "      <th>tmre_text2</th>\n",
       "    </tr>\n",
       "  </thead>\n",
       "  <tbody>\n",
       "    <tr>\n",
       "      <th>HCNONE72</th>\n",
       "      <th>GSD1ANONE72</th>\n",
       "      <td>-0.014519</td>\n",
       "      <td>0.030950</td>\n",
       "      <td>0.022602</td>\n",
       "      <td>-0.001177</td>\n",
       "      <td>606.450075</td>\n",
       "      <td>0.003454</td>\n",
       "      <td>0.006660</td>\n",
       "      <td>-0.001343</td>\n",
       "      <td>19.262363</td>\n",
       "      <td>-0.008714</td>\n",
       "      <td>...</td>\n",
       "      <td>-0.011895</td>\n",
       "      <td>0.001402</td>\n",
       "      <td>0.017033</td>\n",
       "      <td>68.772227</td>\n",
       "      <td>0.192124</td>\n",
       "      <td>230.701038</td>\n",
       "      <td>-0.033293</td>\n",
       "      <td>43.423061</td>\n",
       "      <td>0.015477</td>\n",
       "      <td>0.027202</td>\n",
       "    </tr>\n",
       "    <tr>\n",
       "      <th>HCTNONE72</th>\n",
       "      <th>GSD1ATNONE72</th>\n",
       "      <td>-0.006814</td>\n",
       "      <td>0.038402</td>\n",
       "      <td>0.011994</td>\n",
       "      <td>-0.000366</td>\n",
       "      <td>969.200422</td>\n",
       "      <td>0.002195</td>\n",
       "      <td>0.005045</td>\n",
       "      <td>0.000201</td>\n",
       "      <td>17.498353</td>\n",
       "      <td>-0.004031</td>\n",
       "      <td>...</td>\n",
       "      <td>-0.009517</td>\n",
       "      <td>-0.000435</td>\n",
       "      <td>0.006638</td>\n",
       "      <td>40.598293</td>\n",
       "      <td>0.086661</td>\n",
       "      <td>149.070544</td>\n",
       "      <td>0.001971</td>\n",
       "      <td>20.901587</td>\n",
       "      <td>0.007029</td>\n",
       "      <td>-0.013455</td>\n",
       "    </tr>\n",
       "  </tbody>\n",
       "</table>\n",
       "<p>2 rows × 21 columns</p>\n",
       "</div>"
      ],
      "text/plain": [
       "                        calc_area1  calc_area2  calc_area3  calc_text1  \\\n",
       "HCNONE72  GSD1ANONE72    -0.014519    0.030950    0.022602   -0.001177   \n",
       "HCTNONE72 GSD1ATNONE72   -0.006814    0.038402    0.011994   -0.000366   \n",
       "\n",
       "                        calc_intensity  nuc_area1  nuc_area2  nuc_text1  \\\n",
       "HCNONE72  GSD1ANONE72       606.450075   0.003454   0.006660  -0.001343   \n",
       "HCTNONE72 GSD1ATNONE72      969.200422   0.002195   0.005045   0.000201   \n",
       "\n",
       "                        nuc_intensity  lyso_area2  ...  lyso_area3  \\\n",
       "HCNONE72  GSD1ANONE72       19.262363   -0.008714  ...   -0.011895   \n",
       "HCTNONE72 GSD1ATNONE72      17.498353   -0.004031  ...   -0.009517   \n",
       "\n",
       "                        lyso_text2  lyso_text1  lyso_intensity1  tmre_area2  \\\n",
       "HCNONE72  GSD1ANONE72     0.001402    0.017033        68.772227    0.192124   \n",
       "HCTNONE72 GSD1ATNONE72   -0.000435    0.006638        40.598293    0.086661   \n",
       "\n",
       "                        tmre_area1  tmre_area3  tmre_intensity1  tmre_text1  \\\n",
       "HCNONE72  GSD1ANONE72   230.701038   -0.033293        43.423061    0.015477   \n",
       "HCTNONE72 GSD1ATNONE72  149.070544    0.001971        20.901587    0.007029   \n",
       "\n",
       "                        tmre_text2  \n",
       "HCNONE72  GSD1ANONE72     0.027202  \n",
       "HCTNONE72 GSD1ATNONE72   -0.013455  \n",
       "\n",
       "[2 rows x 21 columns]"
      ]
     },
     "execution_count": 27,
     "metadata": {},
     "output_type": "execute_result"
    }
   ],
   "source": [
    "#finalize\n",
    "CLEAN_dfheatmapREAL = result_df.copy()\n",
    "CLEAN_dfheatmap_final = CLEAN_dfheatmapREAL.drop(columns=['PC'])\n",
    "CLEAN_dfheatmap_final.fillna(0, inplace=True)\n",
    "CLEAN_dfheatmap_final_NORMAL = CLEAN_dfheatmap_final.copy()\n",
    "lan = plt.rcParams['font.family'] = ['Arial']\n",
    "col = sns.diverging_palette(220, 20, as_cmap=True)\n",
    "col = sns.diverging_palette(145, 300, s=60, as_cmap=True)\n",
    "col = sns.color_palette(\"vlag\", as_cmap=True)\n",
    "sns.heatmap(result_df, cmap=col, xticklabels=True, yticklabels=True)\n",
    "\n",
    "sns.set_style(\"white\")\n",
    "font = {'family' : 'Arial',\n",
    "        'size'   : 22}\n",
    "\n",
    "plt.rc('font', **font)\n",
    "cax = plt.gcf().axes[0]\n",
    "cax.tick_params(labelsize=6)\n",
    "plt.yticks(family = 'Arial', rotation=\"horizontal\", size = 6)\n",
    "plt.xticks(family = 'Arial', rotation=\"vertical\", size= 8 )\n",
    "plt.margins(0.1)\n",
    "plt.subplots_adjust(bottom=0.3)\n",
    "plt.savefig(path + '\\\\' + 'HEATMAP5.pdf', dpi=600)\n",
    "plt.show()"
   ]
  },
  {
   "cell_type": "code",
   "execution_count": null,
   "id": "9a9e16bf",
   "metadata": {},
   "outputs": [],
   "source": [
    "data2 = df.replace('HCT','ctrlT', regex=True)\n",
    "data2 = data2.replace('GSD1AT','DST', regex=True)"
   ]
  },
  {
   "cell_type": "code",
   "execution_count": null,
   "id": "8de75883",
   "metadata": {},
   "outputs": [],
   "source": [
    "PCA_DATA_CLEAN = data2.copy()\n",
    "x = PCA_DATA_CLEAN.loc[:, features].values\n",
    "y = PCA_DATA_CLEAN.loc[:,['group']].values\n",
    "y = np.array([0 if('N' == y_i[0][2:3]) else 1 if  'T' in y_i[0][2:3] else 2 if  'r' in y_i[0][2:3] else 3 for y_i in y])\n",
    "\n",
    "\n",
    "x = StandardScaler().fit_transform(x)\n",
    "\n",
    "lda = LDA(n_components=2)\n",
    "lda_x = np.array(lda.fit(x, y).transform(x))\n",
    "\n",
    "\n",
    "# importances = pd.DataFrame(data = abs(lda.scalings_), columns = ['PC1', 'PC2'])\n",
    "# importances['Feature'] = features\n",
    "# display(importances.sort_values('PC1', ascending = False).reset_index(drop = True))\n",
    "# imp = importances.sort_values('PC2', ascending = False)[0:30]\n",
    "# ax1 = sns.barplot(x = 'PC2', y = 'Feature', data = imp)\n",
    "    # Put the legend out of the figure\n",
    "    #plt.legend(bbox_to_anchor=(1.05, 1), loc=2, borderaxespad=0.)\n",
    "fig = ax1.get_figure()\n",
    "fig.set_size_inches(4, 8)\n",
    "ax1.set_xticklabels(ax1.get_xticklabels(), rotation = 90)  \n",
    "plt.savefig(path + '\\\\' + 'LDA1importancefeat1.png', dpi=300 )\n",
    "plt.show()\n",
    "imp2 = importances.sort_values('PC1', ascending = False)[0:30]\n",
    "ax2 = sns.barplot(x = 'PC1', y = 'Feature', data = imp2)\n",
    "fig = ax2.get_figure()\n",
    "fig.set_size_inches(4, 8)\n",
    "ax2.set_xticklabels(ax2.get_xticklabels(), rotation = 90) \n",
    "plt.savefig(path + '\\\\' + 'LDA1importancefeat2.png', dpi=300 )\n",
    "plt.show()\n",
    "\n",
    "\n",
    "\n",
    "target_names= ['HC', 'GSD1AT', 'HCT', 'GSD1A']\n",
    "plt.figure()\n",
    "for c, i, target_name in zip(\"bgyr\", [0, 1, 2, 3], target_names):\n",
    "    plt.scatter(lda_x[y == i,0] , lda_x[y == i,1] , c=c, label=target_name)\n",
    "    plt.legend(target_names*scale,fontsize=12 )\n",
    "    plt.title('LDA of dataset')\n",
    "loadings1 = [\"TmreintensityMean\", \"Calceinarea\", \"Nucarea\", \"LysointensityMean\", \"LysoTSarea\", \"TmreTSarea\"]\n",
    "scale = 3\n",
    "for i, feature in enumerate(importances['Feature']):\n",
    "    if feature in loadings1:\n",
    "            plt.plot([0, importances['PC1'][i]*scale],[0, importances['PC2'][i]*scale])\n",
    "            plt.text( importances['PC1'][i]*scale, importances['PC2'][i]*scale, feature,fontsize=12,color = 'k')  \n",
    "print(lda.explained_variance_ratio_)               \n",
    "plt.savefig(path + '\\\\' + 'LDA_2.png', dpi=600 )\n",
    "plt.show()"
   ]
  },
  {
   "cell_type": "code",
   "execution_count": null,
   "id": "04795442",
   "metadata": {},
   "outputs": [],
   "source": [
    "###########################################################"
   ]
  }
 ],
 "metadata": {
  "kernelspec": {
   "display_name": "Python 3 (ipykernel)",
   "language": "python",
   "name": "python3"
  },
  "language_info": {
   "codemirror_mode": {
    "name": "ipython",
    "version": 3
   },
   "file_extension": ".py",
   "mimetype": "text/x-python",
   "name": "python",
   "nbconvert_exporter": "python",
   "pygments_lexer": "ipython3",
   "version": "3.9.13"
  }
 },
 "nbformat": 4,
 "nbformat_minor": 5
}
